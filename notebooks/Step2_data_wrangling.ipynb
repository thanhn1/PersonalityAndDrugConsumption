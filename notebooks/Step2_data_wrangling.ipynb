{
 "cells": [
  {
   "cell_type": "markdown",
   "metadata": {
    "toc": true
   },
   "source": [
    "<h1>Table of Contents<span class=\"tocSkip\"></span></h1>\n",
    "<div class=\"toc\"><ul class=\"toc-item\"><li><span><a href=\"#2)-Data-Wrangling\" data-toc-modified-id=\"2)-Data-Wrangling-1\">2) Data Wrangling</a></span><ul class=\"toc-item\"><li><span><a href=\"#2.1)-Load-data-and-start-explore\" data-toc-modified-id=\"2.1)-Load-data-and-start-explore-1.1\">2.1) Load data and start explore</a></span></li><li><span><a href=\"#2.2)-Check-missing-values-and-duplicates\" data-toc-modified-id=\"2.2)-Check-missing-values-and-duplicates-1.2\">2.2) Check missing values and duplicates</a></span></li><li><span><a href=\"#2.3)-Take-all-features-and-two-target-variables-and-further-explore.\" data-toc-modified-id=\"2.3)-Take-all-features-and-two-target-variables-and-further-explore.-1.3\">2.3) Take all features and two target variables and further explore.</a></span></li><li><span><a href=\"#2.4)-Transform-two-target-variables-to-binary-classification\" data-toc-modified-id=\"2.4)-Transform-two-target-variables-to-binary-classification-1.4\">2.4) Transform two target variables to binary classification</a></span></li></ul></li></ul></div>"
   ]
  },
  {
   "cell_type": "markdown",
   "metadata": {
    "id": "HsDhpejZ5Ssd"
   },
   "source": [
    "# 2) Data Wrangling"
   ]
  },
  {
   "cell_type": "markdown",
   "metadata": {
    "id": "HsDhpejZ5Ssd"
   },
   "source": [
    "## 2.1) Load data and start explore \n",
    "- After reading data description from the website, it is not clear the features are continuos or categorical. Let import the data and look at the features more closely.\n",
    "- Link to dataset is here https://archive.ics.uci.edu/ml/datasets/Drug+consumption+%28quantified%29"
   ]
  },
  {
   "cell_type": "code",
   "execution_count": 1,
   "metadata": {
    "executionInfo": {
     "elapsed": 697,
     "status": "ok",
     "timestamp": 1662397711965,
     "user": {
      "displayName": "Thanh Nguyen",
      "userId": "11534842942890198931"
     },
     "user_tz": 420
    },
    "id": "Cr8GY-wSzi7r"
   },
   "outputs": [],
   "source": [
    "# Import packages\n",
    "import numpy as np\n",
    "import pandas as pd"
   ]
  },
  {
   "cell_type": "code",
   "execution_count": 2,
   "metadata": {},
   "outputs": [],
   "source": [
    "# Load data from the url\n",
    "drug = pd.read_csv(\"https://archive.ics.uci.edu/ml/machine-learning-databases/00373/drug_consumption.data\", header=None)"
   ]
  },
  {
   "cell_type": "code",
   "execution_count": 3,
   "metadata": {
    "colab": {
     "base_uri": "https://localhost:8080/"
    },
    "executionInfo": {
     "elapsed": 330,
     "status": "ok",
     "timestamp": 1662397747013,
     "user": {
      "displayName": "Thanh Nguyen",
      "userId": "11534842942890198931"
     },
     "user_tz": 420
    },
    "id": "0z65OZzk6_Gw",
    "outputId": "4c7ce8f6-6c56-43b0-c9b8-42f6946e0784"
   },
   "outputs": [
    {
     "data": {
      "text/plain": [
       "(1885, 32)"
      ]
     },
     "execution_count": 3,
     "metadata": {},
     "output_type": "execute_result"
    }
   ],
   "source": [
    "# Shape of dataset (should be (1885, 32))\n",
    "drug.shape"
   ]
  },
  {
   "cell_type": "code",
   "execution_count": 4,
   "metadata": {
    "colab": {
     "base_uri": "https://localhost:8080/",
     "height": 236
    },
    "executionInfo": {
     "elapsed": 312,
     "status": "ok",
     "timestamp": 1662336345199,
     "user": {
      "displayName": "Thanh Nguyen",
      "userId": "11534842942890198931"
     },
     "user_tz": 420
    },
    "id": "tZBF8dj86_Jm",
    "outputId": "353c2450-9075-4e7e-c2bd-3359ffba048b",
    "scrolled": false
   },
   "outputs": [
    {
     "data": {
      "text/html": [
       "<div>\n",
       "<style scoped>\n",
       "    .dataframe tbody tr th:only-of-type {\n",
       "        vertical-align: middle;\n",
       "    }\n",
       "\n",
       "    .dataframe tbody tr th {\n",
       "        vertical-align: top;\n",
       "    }\n",
       "\n",
       "    .dataframe thead th {\n",
       "        text-align: right;\n",
       "    }\n",
       "</style>\n",
       "<table border=\"1\" class=\"dataframe\">\n",
       "  <thead>\n",
       "    <tr style=\"text-align: right;\">\n",
       "      <th></th>\n",
       "      <th>0</th>\n",
       "      <th>1</th>\n",
       "      <th>2</th>\n",
       "      <th>3</th>\n",
       "      <th>4</th>\n",
       "      <th>5</th>\n",
       "      <th>6</th>\n",
       "      <th>7</th>\n",
       "      <th>8</th>\n",
       "      <th>9</th>\n",
       "      <th>...</th>\n",
       "      <th>22</th>\n",
       "      <th>23</th>\n",
       "      <th>24</th>\n",
       "      <th>25</th>\n",
       "      <th>26</th>\n",
       "      <th>27</th>\n",
       "      <th>28</th>\n",
       "      <th>29</th>\n",
       "      <th>30</th>\n",
       "      <th>31</th>\n",
       "    </tr>\n",
       "  </thead>\n",
       "  <tbody>\n",
       "    <tr>\n",
       "      <th>0</th>\n",
       "      <td>1</td>\n",
       "      <td>0.49788</td>\n",
       "      <td>0.48246</td>\n",
       "      <td>-0.05921</td>\n",
       "      <td>0.96082</td>\n",
       "      <td>0.12600</td>\n",
       "      <td>0.31287</td>\n",
       "      <td>-0.57545</td>\n",
       "      <td>-0.58331</td>\n",
       "      <td>-0.91699</td>\n",
       "      <td>...</td>\n",
       "      <td>CL0</td>\n",
       "      <td>CL0</td>\n",
       "      <td>CL0</td>\n",
       "      <td>CL0</td>\n",
       "      <td>CL0</td>\n",
       "      <td>CL0</td>\n",
       "      <td>CL0</td>\n",
       "      <td>CL2</td>\n",
       "      <td>CL0</td>\n",
       "      <td>CL0</td>\n",
       "    </tr>\n",
       "    <tr>\n",
       "      <th>1</th>\n",
       "      <td>2</td>\n",
       "      <td>-0.07854</td>\n",
       "      <td>-0.48246</td>\n",
       "      <td>1.98437</td>\n",
       "      <td>0.96082</td>\n",
       "      <td>-0.31685</td>\n",
       "      <td>-0.67825</td>\n",
       "      <td>1.93886</td>\n",
       "      <td>1.43533</td>\n",
       "      <td>0.76096</td>\n",
       "      <td>...</td>\n",
       "      <td>CL4</td>\n",
       "      <td>CL0</td>\n",
       "      <td>CL2</td>\n",
       "      <td>CL0</td>\n",
       "      <td>CL2</td>\n",
       "      <td>CL3</td>\n",
       "      <td>CL0</td>\n",
       "      <td>CL4</td>\n",
       "      <td>CL0</td>\n",
       "      <td>CL0</td>\n",
       "    </tr>\n",
       "    <tr>\n",
       "      <th>2</th>\n",
       "      <td>3</td>\n",
       "      <td>0.49788</td>\n",
       "      <td>-0.48246</td>\n",
       "      <td>-0.05921</td>\n",
       "      <td>0.96082</td>\n",
       "      <td>-0.31685</td>\n",
       "      <td>-0.46725</td>\n",
       "      <td>0.80523</td>\n",
       "      <td>-0.84732</td>\n",
       "      <td>-1.62090</td>\n",
       "      <td>...</td>\n",
       "      <td>CL0</td>\n",
       "      <td>CL0</td>\n",
       "      <td>CL0</td>\n",
       "      <td>CL0</td>\n",
       "      <td>CL0</td>\n",
       "      <td>CL0</td>\n",
       "      <td>CL1</td>\n",
       "      <td>CL0</td>\n",
       "      <td>CL0</td>\n",
       "      <td>CL0</td>\n",
       "    </tr>\n",
       "    <tr>\n",
       "      <th>3</th>\n",
       "      <td>4</td>\n",
       "      <td>-0.95197</td>\n",
       "      <td>0.48246</td>\n",
       "      <td>1.16365</td>\n",
       "      <td>0.96082</td>\n",
       "      <td>-0.31685</td>\n",
       "      <td>-0.14882</td>\n",
       "      <td>-0.80615</td>\n",
       "      <td>-0.01928</td>\n",
       "      <td>0.59042</td>\n",
       "      <td>...</td>\n",
       "      <td>CL0</td>\n",
       "      <td>CL0</td>\n",
       "      <td>CL2</td>\n",
       "      <td>CL0</td>\n",
       "      <td>CL0</td>\n",
       "      <td>CL0</td>\n",
       "      <td>CL0</td>\n",
       "      <td>CL2</td>\n",
       "      <td>CL0</td>\n",
       "      <td>CL0</td>\n",
       "    </tr>\n",
       "    <tr>\n",
       "      <th>4</th>\n",
       "      <td>5</td>\n",
       "      <td>0.49788</td>\n",
       "      <td>0.48246</td>\n",
       "      <td>1.98437</td>\n",
       "      <td>0.96082</td>\n",
       "      <td>-0.31685</td>\n",
       "      <td>0.73545</td>\n",
       "      <td>-1.63340</td>\n",
       "      <td>-0.45174</td>\n",
       "      <td>-0.30172</td>\n",
       "      <td>...</td>\n",
       "      <td>CL1</td>\n",
       "      <td>CL0</td>\n",
       "      <td>CL0</td>\n",
       "      <td>CL1</td>\n",
       "      <td>CL0</td>\n",
       "      <td>CL0</td>\n",
       "      <td>CL2</td>\n",
       "      <td>CL2</td>\n",
       "      <td>CL0</td>\n",
       "      <td>CL0</td>\n",
       "    </tr>\n",
       "  </tbody>\n",
       "</table>\n",
       "<p>5 rows × 32 columns</p>\n",
       "</div>"
      ],
      "text/plain": [
       "   0        1        2        3        4        5        6        7        8   \\\n",
       "0   1  0.49788  0.48246 -0.05921  0.96082  0.12600  0.31287 -0.57545 -0.58331   \n",
       "1   2 -0.07854 -0.48246  1.98437  0.96082 -0.31685 -0.67825  1.93886  1.43533   \n",
       "2   3  0.49788 -0.48246 -0.05921  0.96082 -0.31685 -0.46725  0.80523 -0.84732   \n",
       "3   4 -0.95197  0.48246  1.16365  0.96082 -0.31685 -0.14882 -0.80615 -0.01928   \n",
       "4   5  0.49788  0.48246  1.98437  0.96082 -0.31685  0.73545 -1.63340 -0.45174   \n",
       "\n",
       "        9   ...   22   23   24   25   26   27   28   29   30   31  \n",
       "0 -0.91699  ...  CL0  CL0  CL0  CL0  CL0  CL0  CL0  CL2  CL0  CL0  \n",
       "1  0.76096  ...  CL4  CL0  CL2  CL0  CL2  CL3  CL0  CL4  CL0  CL0  \n",
       "2 -1.62090  ...  CL0  CL0  CL0  CL0  CL0  CL0  CL1  CL0  CL0  CL0  \n",
       "3  0.59042  ...  CL0  CL0  CL2  CL0  CL0  CL0  CL0  CL2  CL0  CL0  \n",
       "4 -0.30172  ...  CL1  CL0  CL0  CL1  CL0  CL0  CL2  CL2  CL0  CL0  \n",
       "\n",
       "[5 rows x 32 columns]"
      ]
     },
     "execution_count": 4,
     "metadata": {},
     "output_type": "execute_result"
    }
   ],
   "source": [
    "drug.head()"
   ]
  },
  {
   "cell_type": "code",
   "execution_count": 5,
   "metadata": {
    "scrolled": true
   },
   "outputs": [
    {
     "name": "stdout",
     "output_type": "stream",
     "text": [
      "<class 'pandas.core.frame.DataFrame'>\n",
      "RangeIndex: 1885 entries, 0 to 1884\n",
      "Data columns (total 32 columns):\n",
      " #   Column  Non-Null Count  Dtype  \n",
      "---  ------  --------------  -----  \n",
      " 0   0       1885 non-null   int64  \n",
      " 1   1       1885 non-null   float64\n",
      " 2   2       1885 non-null   float64\n",
      " 3   3       1885 non-null   float64\n",
      " 4   4       1885 non-null   float64\n",
      " 5   5       1885 non-null   float64\n",
      " 6   6       1885 non-null   float64\n",
      " 7   7       1885 non-null   float64\n",
      " 8   8       1885 non-null   float64\n",
      " 9   9       1885 non-null   float64\n",
      " 10  10      1885 non-null   float64\n",
      " 11  11      1885 non-null   float64\n",
      " 12  12      1885 non-null   float64\n",
      " 13  13      1885 non-null   object \n",
      " 14  14      1885 non-null   object \n",
      " 15  15      1885 non-null   object \n",
      " 16  16      1885 non-null   object \n",
      " 17  17      1885 non-null   object \n",
      " 18  18      1885 non-null   object \n",
      " 19  19      1885 non-null   object \n",
      " 20  20      1885 non-null   object \n",
      " 21  21      1885 non-null   object \n",
      " 22  22      1885 non-null   object \n",
      " 23  23      1885 non-null   object \n",
      " 24  24      1885 non-null   object \n",
      " 25  25      1885 non-null   object \n",
      " 26  26      1885 non-null   object \n",
      " 27  27      1885 non-null   object \n",
      " 28  28      1885 non-null   object \n",
      " 29  29      1885 non-null   object \n",
      " 30  30      1885 non-null   object \n",
      " 31  31      1885 non-null   object \n",
      "dtypes: float64(12), int64(1), object(19)\n",
      "memory usage: 471.4+ KB\n"
     ]
    }
   ],
   "source": [
    "drug.info()"
   ]
  },
  {
   "cell_type": "markdown",
   "metadata": {
    "id": "SG572qgHpNqw"
   },
   "source": [
    "Check var2 (column1) - \"age\" to see if they have the same distribution as described in the documentation."
   ]
  },
  {
   "cell_type": "code",
   "execution_count": 6,
   "metadata": {
    "id": "Xq2yGrI16_L5"
   },
   "outputs": [
    {
     "data": {
      "text/plain": [
       "array([-0.95197, -0.07854,  0.49788,  1.09449,  1.82213,  2.59171])"
      ]
     },
     "execution_count": 6,
     "metadata": {},
     "output_type": "execute_result"
    }
   ],
   "source": [
    "unique = drug[1].unique()\n",
    "np.sort(unique)"
   ]
  },
  {
   "cell_type": "code",
   "execution_count": null,
   "metadata": {
    "colab": {
     "base_uri": "https://localhost:8080/"
    },
    "executionInfo": {
     "elapsed": 314,
     "status": "ok",
     "timestamp": 1662336837725,
     "user": {
      "displayName": "Thanh Nguyen",
      "userId": "11534842942890198931"
     },
     "user_tz": 420
    },
    "id": "-ctqnu_l_tGB",
    "outputId": "de309f5b-0769-4a07-88a7-01c127d67dde"
   },
   "outputs": [
    {
     "data": {
      "text/plain": [
       "-0.95197    643\n",
       "-0.07854    481\n",
       " 0.49788    356\n",
       " 1.09449    294\n",
       " 1.82213     93\n",
       " 2.59171     18\n",
       "Name: 1, dtype: int64"
      ]
     },
     "execution_count": 18,
     "metadata": {},
     "output_type": "execute_result"
    }
   ],
   "source": [
    "drug[1].value_counts()"
   ]
  },
  {
   "cell_type": "markdown",
   "metadata": {
    "id": "yOxdIACU_4Eo"
   },
   "source": [
    "- Yes, the distribution is the same as in the web.\n",
    "- Question to be considered: should we consider this feature continuos or categorical?"
   ]
  },
  {
   "cell_type": "markdown",
   "metadata": {
    "id": "iGz18z-vppex"
   },
   "source": [
    "Check var14 (column13) - \"Alcohol\" and var15 to see if they have the same distribution as in the web."
   ]
  },
  {
   "cell_type": "code",
   "execution_count": 7,
   "metadata": {
    "colab": {
     "base_uri": "https://localhost:8080/"
    },
    "executionInfo": {
     "elapsed": 19,
     "status": "ok",
     "timestamp": 1662398281415,
     "user": {
      "displayName": "Thanh Nguyen",
      "userId": "11534842942890198931"
     },
     "user_tz": 420
    },
    "id": "aUnU4_3L_tSS",
    "outputId": "8d5783b0-cf78-42be-a6ea-0f802b35537c"
   },
   "outputs": [
    {
     "data": {
      "text/plain": [
       "array(['CL0', 'CL1', 'CL2', 'CL3', 'CL4', 'CL5', 'CL6'], dtype=object)"
      ]
     },
     "execution_count": 7,
     "metadata": {},
     "output_type": "execute_result"
    }
   ],
   "source": [
    "np.sort(drug[13].unique())"
   ]
  },
  {
   "cell_type": "code",
   "execution_count": 8,
   "metadata": {
    "colab": {
     "base_uri": "https://localhost:8080/"
    },
    "executionInfo": {
     "elapsed": 402,
     "status": "ok",
     "timestamp": 1662398308869,
     "user": {
      "displayName": "Thanh Nguyen",
      "userId": "11534842942890198931"
     },
     "user_tz": 420
    },
    "id": "Ebfi5II4oQRQ",
    "outputId": "db5cfcda-1b70-4a79-b59b-5e47a4a08255"
   },
   "outputs": [
    {
     "data": {
      "text/plain": [
       "CL5    759\n",
       "CL6    505\n",
       "CL4    287\n",
       "CL3    198\n",
       "CL2     68\n",
       "CL1     34\n",
       "CL0     34\n",
       "Name: 13, dtype: int64"
      ]
     },
     "execution_count": 8,
     "metadata": {},
     "output_type": "execute_result"
    }
   ],
   "source": [
    "drug[13].value_counts()"
   ]
  },
  {
   "cell_type": "code",
   "execution_count": 9,
   "metadata": {
    "colab": {
     "base_uri": "https://localhost:8080/"
    },
    "executionInfo": {
     "elapsed": 299,
     "status": "ok",
     "timestamp": 1662398466194,
     "user": {
      "displayName": "Thanh Nguyen",
      "userId": "11534842942890198931"
     },
     "user_tz": 420
    },
    "id": "cNVOxyKbq01q",
    "outputId": "e184a6c6-5c94-4ba2-c796-f3d74ef92d28"
   },
   "outputs": [
    {
     "data": {
      "text/plain": [
       "CL0    976\n",
       "CL2    243\n",
       "CL1    230\n",
       "CL3    198\n",
       "CL6    102\n",
       "CL4     75\n",
       "CL5     61\n",
       "Name: 14, dtype: int64"
      ]
     },
     "execution_count": 9,
     "metadata": {},
     "output_type": "execute_result"
    }
   ],
   "source": [
    "drug[14].value_counts()"
   ]
  },
  {
   "cell_type": "markdown",
   "metadata": {
    "id": "Lhu2op5MrMhZ"
   },
   "source": [
    "Yes, these have the same distribution as in the web."
   ]
  },
  {
   "cell_type": "markdown",
   "metadata": {
    "id": "_D9hkNEj6eof"
   },
   "source": [
    "## 2.2) Check missing values and duplicates"
   ]
  },
  {
   "cell_type": "code",
   "execution_count": 10,
   "metadata": {
    "scrolled": true
   },
   "outputs": [
    {
     "data": {
      "text/plain": [
       "0     0\n",
       "1     0\n",
       "30    0\n",
       "29    0\n",
       "28    0\n",
       "27    0\n",
       "26    0\n",
       "25    0\n",
       "24    0\n",
       "23    0\n",
       "22    0\n",
       "21    0\n",
       "20    0\n",
       "19    0\n",
       "18    0\n",
       "17    0\n",
       "16    0\n",
       "15    0\n",
       "14    0\n",
       "13    0\n",
       "12    0\n",
       "11    0\n",
       "10    0\n",
       "9     0\n",
       "8     0\n",
       "7     0\n",
       "6     0\n",
       "5     0\n",
       "4     0\n",
       "3     0\n",
       "2     0\n",
       "31    0\n",
       "dtype: int64"
      ]
     },
     "execution_count": 10,
     "metadata": {},
     "output_type": "execute_result"
    }
   ],
   "source": [
    "# Check missing values\n",
    "drug.isnull().sum().sort_values(ascending=False)"
   ]
  },
  {
   "cell_type": "code",
   "execution_count": 11,
   "metadata": {},
   "outputs": [
    {
     "data": {
      "text/html": [
       "<div>\n",
       "<style scoped>\n",
       "    .dataframe tbody tr th:only-of-type {\n",
       "        vertical-align: middle;\n",
       "    }\n",
       "\n",
       "    .dataframe tbody tr th {\n",
       "        vertical-align: top;\n",
       "    }\n",
       "\n",
       "    .dataframe thead th {\n",
       "        text-align: right;\n",
       "    }\n",
       "</style>\n",
       "<table border=\"1\" class=\"dataframe\">\n",
       "  <thead>\n",
       "    <tr style=\"text-align: right;\">\n",
       "      <th></th>\n",
       "      <th>0</th>\n",
       "      <th>1</th>\n",
       "      <th>2</th>\n",
       "      <th>3</th>\n",
       "      <th>4</th>\n",
       "      <th>5</th>\n",
       "      <th>6</th>\n",
       "      <th>7</th>\n",
       "      <th>8</th>\n",
       "      <th>9</th>\n",
       "      <th>...</th>\n",
       "      <th>22</th>\n",
       "      <th>23</th>\n",
       "      <th>24</th>\n",
       "      <th>25</th>\n",
       "      <th>26</th>\n",
       "      <th>27</th>\n",
       "      <th>28</th>\n",
       "      <th>29</th>\n",
       "      <th>30</th>\n",
       "      <th>31</th>\n",
       "    </tr>\n",
       "  </thead>\n",
       "  <tbody>\n",
       "  </tbody>\n",
       "</table>\n",
       "<p>0 rows × 32 columns</p>\n",
       "</div>"
      ],
      "text/plain": [
       "Empty DataFrame\n",
       "Columns: [0, 1, 2, 3, 4, 5, 6, 7, 8, 9, 10, 11, 12, 13, 14, 15, 16, 17, 18, 19, 20, 21, 22, 23, 24, 25, 26, 27, 28, 29, 30, 31]\n",
       "Index: []\n",
       "\n",
       "[0 rows x 32 columns]"
      ]
     },
     "execution_count": 11,
     "metadata": {},
     "output_type": "execute_result"
    }
   ],
   "source": [
    "# Check uniqueness of ID number\n",
    "duplicates = drug.duplicated(subset=0, keep=False)\n",
    "drug[duplicates]"
   ]
  },
  {
   "cell_type": "code",
   "execution_count": 12,
   "metadata": {},
   "outputs": [
    {
     "data": {
      "text/plain": [
       "0"
      ]
     },
     "execution_count": 12,
     "metadata": {},
     "output_type": "execute_result"
    }
   ],
   "source": [
    "# alternatively \n",
    "duplicates.sum()"
   ]
  },
  {
   "cell_type": "code",
   "execution_count": 16,
   "metadata": {},
   "outputs": [
    {
     "data": {
      "text/plain": [
       "(1885,)"
      ]
     },
     "execution_count": 16,
     "metadata": {},
     "output_type": "execute_result"
    }
   ],
   "source": [
    "# alternatively\n",
    "drug[0].unique().shape"
   ]
  },
  {
   "cell_type": "code",
   "execution_count": 22,
   "metadata": {},
   "outputs": [
    {
     "data": {
      "text/html": [
       "<div>\n",
       "<style scoped>\n",
       "    .dataframe tbody tr th:only-of-type {\n",
       "        vertical-align: middle;\n",
       "    }\n",
       "\n",
       "    .dataframe tbody tr th {\n",
       "        vertical-align: top;\n",
       "    }\n",
       "\n",
       "    .dataframe thead th {\n",
       "        text-align: right;\n",
       "    }\n",
       "</style>\n",
       "<table border=\"1\" class=\"dataframe\">\n",
       "  <thead>\n",
       "    <tr style=\"text-align: right;\">\n",
       "      <th></th>\n",
       "      <th>0</th>\n",
       "      <th>1</th>\n",
       "      <th>2</th>\n",
       "      <th>3</th>\n",
       "      <th>4</th>\n",
       "      <th>5</th>\n",
       "      <th>6</th>\n",
       "      <th>7</th>\n",
       "      <th>8</th>\n",
       "      <th>9</th>\n",
       "      <th>...</th>\n",
       "      <th>22</th>\n",
       "      <th>23</th>\n",
       "      <th>24</th>\n",
       "      <th>25</th>\n",
       "      <th>26</th>\n",
       "      <th>27</th>\n",
       "      <th>28</th>\n",
       "      <th>29</th>\n",
       "      <th>30</th>\n",
       "      <th>31</th>\n",
       "    </tr>\n",
       "  </thead>\n",
       "  <tbody>\n",
       "  </tbody>\n",
       "</table>\n",
       "<p>0 rows × 32 columns</p>\n",
       "</div>"
      ],
      "text/plain": [
       "Empty DataFrame\n",
       "Columns: [0, 1, 2, 3, 4, 5, 6, 7, 8, 9, 10, 11, 12, 13, 14, 15, 16, 17, 18, 19, 20, 21, 22, 23, 24, 25, 26, 27, 28, 29, 30, 31]\n",
       "Index: []\n",
       "\n",
       "[0 rows x 32 columns]"
      ]
     },
     "execution_count": 22,
     "metadata": {},
     "output_type": "execute_result"
    }
   ],
   "source": [
    "# We see all ID numbers are unique. Let check if there are two IDs that have all other columns the same\n",
    "# That is to set 'subset' = all columns except column 0\n",
    "duplicates = drug.duplicated(subset=drug.columns.difference([0]), keep=False)\n",
    "drug[duplicates]"
   ]
  },
  {
   "cell_type": "markdown",
   "metadata": {
    "id": "_D9hkNEj6eof"
   },
   "source": [
    "## 2.3) Take all features and two target variables and further explore.\n",
    "- We will focus on Amyl (var16) (because this is 'party drug') and Cannabis (var19) (because this is everywhere now)\n",
    "- Rename columns so that the names make sense.\n",
    "- Most of features in the dataset were categoretical originally. The dataset owners quantified them and we dataset we have has quantified features. While some quantified features make sense (for example personality traits), other quanfitied features don't (for example country and ethnicity). We will convert some features (age, gender, education, country, ethnicity) back to categoretical data type (we still keep their quantified values)."
   ]
  },
  {
   "cell_type": "code",
   "execution_count": 32,
   "metadata": {
    "id": "5i8vlBlP6yeH"
   },
   "outputs": [
    {
     "data": {
      "text/plain": [
       "[13, 14, 16, 17, 19, 20, 21, 22, 23, 24, 25, 26, 27, 28, 29, 30, 31]"
      ]
     },
     "execution_count": 32,
     "metadata": {},
     "output_type": "execute_result"
    }
   ],
   "source": [
    "# Drop the drugs that we do not want. We will keep two drugs - column15 and 18. \n",
    "# So we will drop columns 13, 14, 16, 17 and 19-31\n",
    "# Create list of these number\n",
    "col_list = [13, 14, 16, 17] + list(range(19, 32))\n",
    "col_list"
   ]
  },
  {
   "cell_type": "code",
   "execution_count": 33,
   "metadata": {},
   "outputs": [],
   "source": [
    "# Drop these columns\n",
    "drug_1 = drug.drop(col_list, axis=1).copy()"
   ]
  },
  {
   "cell_type": "code",
   "execution_count": 34,
   "metadata": {},
   "outputs": [
    {
     "data": {
      "text/plain": [
       "Int64Index([0, 1, 2, 3, 4, 5, 6, 7, 8, 9, 10, 11, 12, 15, 18], dtype='int64')"
      ]
     },
     "execution_count": 34,
     "metadata": {},
     "output_type": "execute_result"
    }
   ],
   "source": [
    "# Check drug_1 columns\n",
    "drug_1.columns"
   ]
  },
  {
   "cell_type": "code",
   "execution_count": 37,
   "metadata": {
    "id": "WXWdL7IG6yg7"
   },
   "outputs": [],
   "source": [
    "# Rename the column names\n",
    "col_name = (['ID', 'Age_value', 'Gender_value', 'Education_value', 'Country_value', 'Ethnicity_value',\n",
    "            'Nscore', 'Escore', 'Oscore', 'Ascore', 'Cscore', 'Impulsive', 'SS', 'Amyl', 'Cannabis'])"
   ]
  },
  {
   "cell_type": "code",
   "execution_count": 38,
   "metadata": {},
   "outputs": [
    {
     "data": {
      "text/plain": [
       "['ID',\n",
       " 'Age_value',\n",
       " 'Gender_value',\n",
       " 'Education_value',\n",
       " 'Country_value',\n",
       " 'Ethnicity_value',\n",
       " 'Nscore',\n",
       " 'Escore',\n",
       " 'Oscore',\n",
       " 'Ascore',\n",
       " 'Cscore',\n",
       " 'Impulsive',\n",
       " 'SS',\n",
       " 'Amyl',\n",
       " 'Cannabis']"
      ]
     },
     "execution_count": 38,
     "metadata": {},
     "output_type": "execute_result"
    }
   ],
   "source": [
    "col_name"
   ]
  },
  {
   "cell_type": "code",
   "execution_count": 39,
   "metadata": {},
   "outputs": [
    {
     "data": {
      "text/html": [
       "<div>\n",
       "<style scoped>\n",
       "    .dataframe tbody tr th:only-of-type {\n",
       "        vertical-align: middle;\n",
       "    }\n",
       "\n",
       "    .dataframe tbody tr th {\n",
       "        vertical-align: top;\n",
       "    }\n",
       "\n",
       "    .dataframe thead th {\n",
       "        text-align: right;\n",
       "    }\n",
       "</style>\n",
       "<table border=\"1\" class=\"dataframe\">\n",
       "  <thead>\n",
       "    <tr style=\"text-align: right;\">\n",
       "      <th></th>\n",
       "      <th>ID</th>\n",
       "      <th>Age_value</th>\n",
       "      <th>Gender_value</th>\n",
       "      <th>Education_value</th>\n",
       "      <th>Country_value</th>\n",
       "      <th>Ethnicity_value</th>\n",
       "      <th>Nscore</th>\n",
       "      <th>Escore</th>\n",
       "      <th>Oscore</th>\n",
       "      <th>Ascore</th>\n",
       "      <th>Cscore</th>\n",
       "      <th>Impulsive</th>\n",
       "      <th>SS</th>\n",
       "      <th>Amyl</th>\n",
       "      <th>Cannabis</th>\n",
       "    </tr>\n",
       "  </thead>\n",
       "  <tbody>\n",
       "    <tr>\n",
       "      <th>0</th>\n",
       "      <td>1</td>\n",
       "      <td>0.49788</td>\n",
       "      <td>0.48246</td>\n",
       "      <td>-0.05921</td>\n",
       "      <td>0.96082</td>\n",
       "      <td>0.12600</td>\n",
       "      <td>0.31287</td>\n",
       "      <td>-0.57545</td>\n",
       "      <td>-0.58331</td>\n",
       "      <td>-0.91699</td>\n",
       "      <td>-0.00665</td>\n",
       "      <td>-0.21712</td>\n",
       "      <td>-1.18084</td>\n",
       "      <td>CL0</td>\n",
       "      <td>CL0</td>\n",
       "    </tr>\n",
       "    <tr>\n",
       "      <th>1</th>\n",
       "      <td>2</td>\n",
       "      <td>-0.07854</td>\n",
       "      <td>-0.48246</td>\n",
       "      <td>1.98437</td>\n",
       "      <td>0.96082</td>\n",
       "      <td>-0.31685</td>\n",
       "      <td>-0.67825</td>\n",
       "      <td>1.93886</td>\n",
       "      <td>1.43533</td>\n",
       "      <td>0.76096</td>\n",
       "      <td>-0.14277</td>\n",
       "      <td>-0.71126</td>\n",
       "      <td>-0.21575</td>\n",
       "      <td>CL2</td>\n",
       "      <td>CL4</td>\n",
       "    </tr>\n",
       "    <tr>\n",
       "      <th>2</th>\n",
       "      <td>3</td>\n",
       "      <td>0.49788</td>\n",
       "      <td>-0.48246</td>\n",
       "      <td>-0.05921</td>\n",
       "      <td>0.96082</td>\n",
       "      <td>-0.31685</td>\n",
       "      <td>-0.46725</td>\n",
       "      <td>0.80523</td>\n",
       "      <td>-0.84732</td>\n",
       "      <td>-1.62090</td>\n",
       "      <td>-1.01450</td>\n",
       "      <td>-1.37983</td>\n",
       "      <td>0.40148</td>\n",
       "      <td>CL0</td>\n",
       "      <td>CL3</td>\n",
       "    </tr>\n",
       "    <tr>\n",
       "      <th>3</th>\n",
       "      <td>4</td>\n",
       "      <td>-0.95197</td>\n",
       "      <td>0.48246</td>\n",
       "      <td>1.16365</td>\n",
       "      <td>0.96082</td>\n",
       "      <td>-0.31685</td>\n",
       "      <td>-0.14882</td>\n",
       "      <td>-0.80615</td>\n",
       "      <td>-0.01928</td>\n",
       "      <td>0.59042</td>\n",
       "      <td>0.58489</td>\n",
       "      <td>-1.37983</td>\n",
       "      <td>-1.18084</td>\n",
       "      <td>CL0</td>\n",
       "      <td>CL2</td>\n",
       "    </tr>\n",
       "    <tr>\n",
       "      <th>4</th>\n",
       "      <td>5</td>\n",
       "      <td>0.49788</td>\n",
       "      <td>0.48246</td>\n",
       "      <td>1.98437</td>\n",
       "      <td>0.96082</td>\n",
       "      <td>-0.31685</td>\n",
       "      <td>0.73545</td>\n",
       "      <td>-1.63340</td>\n",
       "      <td>-0.45174</td>\n",
       "      <td>-0.30172</td>\n",
       "      <td>1.30612</td>\n",
       "      <td>-0.21712</td>\n",
       "      <td>-0.21575</td>\n",
       "      <td>CL1</td>\n",
       "      <td>CL3</td>\n",
       "    </tr>\n",
       "  </tbody>\n",
       "</table>\n",
       "</div>"
      ],
      "text/plain": [
       "   ID  Age_value  Gender_value  Education_value  Country_value  \\\n",
       "0   1    0.49788       0.48246         -0.05921        0.96082   \n",
       "1   2   -0.07854      -0.48246          1.98437        0.96082   \n",
       "2   3    0.49788      -0.48246         -0.05921        0.96082   \n",
       "3   4   -0.95197       0.48246          1.16365        0.96082   \n",
       "4   5    0.49788       0.48246          1.98437        0.96082   \n",
       "\n",
       "   Ethnicity_value   Nscore   Escore   Oscore   Ascore   Cscore  Impulsive  \\\n",
       "0          0.12600  0.31287 -0.57545 -0.58331 -0.91699 -0.00665   -0.21712   \n",
       "1         -0.31685 -0.67825  1.93886  1.43533  0.76096 -0.14277   -0.71126   \n",
       "2         -0.31685 -0.46725  0.80523 -0.84732 -1.62090 -1.01450   -1.37983   \n",
       "3         -0.31685 -0.14882 -0.80615 -0.01928  0.59042  0.58489   -1.37983   \n",
       "4         -0.31685  0.73545 -1.63340 -0.45174 -0.30172  1.30612   -0.21712   \n",
       "\n",
       "        SS Amyl Cannabis  \n",
       "0 -1.18084  CL0      CL0  \n",
       "1 -0.21575  CL2      CL4  \n",
       "2  0.40148  CL0      CL3  \n",
       "3 -1.18084  CL0      CL2  \n",
       "4 -0.21575  CL1      CL3  "
      ]
     },
     "execution_count": 39,
     "metadata": {},
     "output_type": "execute_result"
    }
   ],
   "source": [
    "drug_1.columns = col_name\n",
    "drug_1.head()"
   ]
  },
  {
   "cell_type": "code",
   "execution_count": 40,
   "metadata": {
    "id": "tgJWEwTx6yjn"
   },
   "outputs": [],
   "source": [
    "# Create categorical variable 'Age' and look at distributions\n",
    "# Define function to create new column 'Age'\n",
    "def f(row):\n",
    "    if row['Age_value'] == -0.95197:\n",
    "        val = 'age18_24'\n",
    "    elif row['Age_value'] == -0.07854:\n",
    "        val = 'age25-34'\n",
    "    elif row['Age_value'] == 0.49788:\n",
    "        val = 'age35-44'\n",
    "    elif row['Age_value'] == 1.09449:\n",
    "        val = 'age45-54'\n",
    "    elif row['Age_value'] == 1.82213:\n",
    "        val = 'age55-64'\n",
    "    elif row['Age_value'] == 2.59171:\n",
    "        val = 'age65+'\n",
    "    else:\n",
    "        val = 'Check Age_value'\n",
    "    return val"
   ]
  },
  {
   "cell_type": "code",
   "execution_count": 42,
   "metadata": {
    "id": "2QIcfDMzq1B2"
   },
   "outputs": [
    {
     "data": {
      "text/html": [
       "<div>\n",
       "<style scoped>\n",
       "    .dataframe tbody tr th:only-of-type {\n",
       "        vertical-align: middle;\n",
       "    }\n",
       "\n",
       "    .dataframe tbody tr th {\n",
       "        vertical-align: top;\n",
       "    }\n",
       "\n",
       "    .dataframe thead th {\n",
       "        text-align: right;\n",
       "    }\n",
       "</style>\n",
       "<table border=\"1\" class=\"dataframe\">\n",
       "  <thead>\n",
       "    <tr style=\"text-align: right;\">\n",
       "      <th></th>\n",
       "      <th>Age_value</th>\n",
       "      <th>Age</th>\n",
       "    </tr>\n",
       "  </thead>\n",
       "  <tbody>\n",
       "    <tr>\n",
       "      <th>0</th>\n",
       "      <td>0.49788</td>\n",
       "      <td>age35-44</td>\n",
       "    </tr>\n",
       "    <tr>\n",
       "      <th>1</th>\n",
       "      <td>-0.07854</td>\n",
       "      <td>age25-34</td>\n",
       "    </tr>\n",
       "    <tr>\n",
       "      <th>2</th>\n",
       "      <td>0.49788</td>\n",
       "      <td>age35-44</td>\n",
       "    </tr>\n",
       "    <tr>\n",
       "      <th>3</th>\n",
       "      <td>-0.95197</td>\n",
       "      <td>age18_24</td>\n",
       "    </tr>\n",
       "    <tr>\n",
       "      <th>4</th>\n",
       "      <td>0.49788</td>\n",
       "      <td>age35-44</td>\n",
       "    </tr>\n",
       "  </tbody>\n",
       "</table>\n",
       "</div>"
      ],
      "text/plain": [
       "   Age_value       Age\n",
       "0    0.49788  age35-44\n",
       "1   -0.07854  age25-34\n",
       "2    0.49788  age35-44\n",
       "3   -0.95197  age18_24\n",
       "4    0.49788  age35-44"
      ]
     },
     "execution_count": 42,
     "metadata": {},
     "output_type": "execute_result"
    }
   ],
   "source": [
    "# Create new column 'Age'\n",
    "drug_1['Age'] = drug_1.apply(f, axis=1)\n",
    "drug_1.filter(regex='^Age', axis=1).head()"
   ]
  },
  {
   "cell_type": "code",
   "execution_count": 43,
   "metadata": {
    "id": "SFYC_UAX63Ni"
   },
   "outputs": [
    {
     "data": {
      "text/plain": [
       "age18_24    643\n",
       "age25-34    481\n",
       "age35-44    356\n",
       "age45-54    294\n",
       "age55-64     93\n",
       "age65+       18\n",
       "Name: Age, dtype: int64"
      ]
     },
     "execution_count": 43,
     "metadata": {},
     "output_type": "execute_result"
    }
   ],
   "source": [
    "# Look at distribution of Age\n",
    "drug_1['Age'].value_counts()\n",
    "# Distribution should be the same as in dataset description by the owners."
   ]
  },
  {
   "cell_type": "code",
   "execution_count": 44,
   "metadata": {},
   "outputs": [],
   "source": [
    "# Save drug_1 to hard disk\n",
    "drug_1.to_csv('../data/drug_1.csv')"
   ]
  },
  {
   "cell_type": "code",
   "execution_count": 45,
   "metadata": {
    "id": "JJgtWpP-63Q9"
   },
   "outputs": [
    {
     "data": {
      "text/html": [
       "<div>\n",
       "<style scoped>\n",
       "    .dataframe tbody tr th:only-of-type {\n",
       "        vertical-align: middle;\n",
       "    }\n",
       "\n",
       "    .dataframe tbody tr th {\n",
       "        vertical-align: top;\n",
       "    }\n",
       "\n",
       "    .dataframe thead th {\n",
       "        text-align: right;\n",
       "    }\n",
       "</style>\n",
       "<table border=\"1\" class=\"dataframe\">\n",
       "  <thead>\n",
       "    <tr style=\"text-align: right;\">\n",
       "      <th></th>\n",
       "      <th>Gender_value</th>\n",
       "      <th>Gender</th>\n",
       "    </tr>\n",
       "  </thead>\n",
       "  <tbody>\n",
       "    <tr>\n",
       "      <th>655</th>\n",
       "      <td>-0.48246</td>\n",
       "      <td>Male</td>\n",
       "    </tr>\n",
       "    <tr>\n",
       "      <th>141</th>\n",
       "      <td>0.48246</td>\n",
       "      <td>Female</td>\n",
       "    </tr>\n",
       "    <tr>\n",
       "      <th>1422</th>\n",
       "      <td>0.48246</td>\n",
       "      <td>Female</td>\n",
       "    </tr>\n",
       "    <tr>\n",
       "      <th>1518</th>\n",
       "      <td>-0.48246</td>\n",
       "      <td>Male</td>\n",
       "    </tr>\n",
       "    <tr>\n",
       "      <th>1113</th>\n",
       "      <td>-0.48246</td>\n",
       "      <td>Male</td>\n",
       "    </tr>\n",
       "  </tbody>\n",
       "</table>\n",
       "</div>"
      ],
      "text/plain": [
       "      Gender_value  Gender\n",
       "655       -0.48246    Male\n",
       "141        0.48246  Female\n",
       "1422       0.48246  Female\n",
       "1518      -0.48246    Male\n",
       "1113      -0.48246    Male"
      ]
     },
     "execution_count": 45,
     "metadata": {},
     "output_type": "execute_result"
    }
   ],
   "source": [
    "# Create new categorical features 'Gender'\n",
    "drug_1['Gender'] = np.where(drug_1['Gender_value'] > 0, 'Female', 'Male')\n",
    "drug_1.filter(regex='^Gender', axis=1).sample(5)"
   ]
  },
  {
   "cell_type": "code",
   "execution_count": 46,
   "metadata": {},
   "outputs": [
    {
     "data": {
      "text/plain": [
       "Male      943\n",
       "Female    942\n",
       "Name: Gender, dtype: int64"
      ]
     },
     "execution_count": 46,
     "metadata": {},
     "output_type": "execute_result"
    }
   ],
   "source": [
    "# Look at distribution of Gender\n",
    "drug_1['Gender'].value_counts()\n",
    "# Distribution should be the same as in dataset description by the owners."
   ]
  },
  {
   "cell_type": "code",
   "execution_count": 49,
   "metadata": {},
   "outputs": [
    {
     "data": {
      "text/html": [
       "<div>\n",
       "<style scoped>\n",
       "    .dataframe tbody tr th:only-of-type {\n",
       "        vertical-align: middle;\n",
       "    }\n",
       "\n",
       "    .dataframe tbody tr th {\n",
       "        vertical-align: top;\n",
       "    }\n",
       "\n",
       "    .dataframe thead th {\n",
       "        text-align: right;\n",
       "    }\n",
       "</style>\n",
       "<table border=\"1\" class=\"dataframe\">\n",
       "  <thead>\n",
       "    <tr style=\"text-align: right;\">\n",
       "      <th></th>\n",
       "      <th>Education_value</th>\n",
       "      <th>Education_level</th>\n",
       "      <th>Education</th>\n",
       "      <th>Edu_comment</th>\n",
       "    </tr>\n",
       "  </thead>\n",
       "  <tbody>\n",
       "    <tr>\n",
       "      <th>0</th>\n",
       "      <td>-2.43591</td>\n",
       "      <td>1</td>\n",
       "      <td>Left school before 16</td>\n",
       "      <td>Left school before 16 years 28 1.49%</td>\n",
       "    </tr>\n",
       "    <tr>\n",
       "      <th>1</th>\n",
       "      <td>-1.73790</td>\n",
       "      <td>2</td>\n",
       "      <td>Left school at 16</td>\n",
       "      <td>Left school at 16 years 99 5.25%</td>\n",
       "    </tr>\n",
       "    <tr>\n",
       "      <th>2</th>\n",
       "      <td>-1.43719</td>\n",
       "      <td>3</td>\n",
       "      <td>Left school at 17</td>\n",
       "      <td>Left school at 17 years 30 1.59%</td>\n",
       "    </tr>\n",
       "    <tr>\n",
       "      <th>3</th>\n",
       "      <td>-1.22751</td>\n",
       "      <td>4</td>\n",
       "      <td>Left school at 18</td>\n",
       "      <td>Left school at 18 years 100 5.31%</td>\n",
       "    </tr>\n",
       "    <tr>\n",
       "      <th>4</th>\n",
       "      <td>-0.61113</td>\n",
       "      <td>5</td>\n",
       "      <td>Some college but no degree</td>\n",
       "      <td>Some college or university, no certificate or ...</td>\n",
       "    </tr>\n",
       "    <tr>\n",
       "      <th>5</th>\n",
       "      <td>-0.05921</td>\n",
       "      <td>6</td>\n",
       "      <td>Professional certificate</td>\n",
       "      <td>Professional certificate/ diploma 270 14.32%</td>\n",
       "    </tr>\n",
       "    <tr>\n",
       "      <th>6</th>\n",
       "      <td>0.45468</td>\n",
       "      <td>7</td>\n",
       "      <td>University degree</td>\n",
       "      <td>University degree 480 25.46%</td>\n",
       "    </tr>\n",
       "    <tr>\n",
       "      <th>7</th>\n",
       "      <td>1.16365</td>\n",
       "      <td>8</td>\n",
       "      <td>Masters degree</td>\n",
       "      <td>Masters degree 283 15.01%</td>\n",
       "    </tr>\n",
       "    <tr>\n",
       "      <th>8</th>\n",
       "      <td>1.98437</td>\n",
       "      <td>9</td>\n",
       "      <td>Doctorate degree</td>\n",
       "      <td>Doctorate degree 89 4.72%</td>\n",
       "    </tr>\n",
       "  </tbody>\n",
       "</table>\n",
       "</div>"
      ],
      "text/plain": [
       "   Education_value  Education_level                   Education  \\\n",
       "0         -2.43591                1       Left school before 16   \n",
       "1         -1.73790                2           Left school at 16   \n",
       "2         -1.43719                3           Left school at 17   \n",
       "3         -1.22751                4           Left school at 18   \n",
       "4         -0.61113                5  Some college but no degree   \n",
       "5         -0.05921                6    Professional certificate   \n",
       "6          0.45468                7           University degree   \n",
       "7          1.16365                8              Masters degree   \n",
       "8          1.98437                9            Doctorate degree   \n",
       "\n",
       "                                         Edu_comment  \n",
       "0               Left school before 16 years 28 1.49%  \n",
       "1                   Left school at 16 years 99 5.25%  \n",
       "2                   Left school at 17 years 30 1.59%  \n",
       "3                  Left school at 18 years 100 5.31%  \n",
       "4  Some college or university, no certificate or ...  \n",
       "5       Professional certificate/ diploma 270 14.32%  \n",
       "6                       University degree 480 25.46%  \n",
       "7                          Masters degree 283 15.01%  \n",
       "8                          Doctorate degree 89 4.72%  "
      ]
     },
     "execution_count": 49,
     "metadata": {},
     "output_type": "execute_result"
    }
   ],
   "source": [
    "# Create categorical var \"Edu\". Thanh manually create link file in Excel. We will load the link dataframe and use left join to \n",
    "# our dataframe drug_1\n",
    "edu = pd.read_excel('../raw_data/Education.xlsx')\n",
    "edu"
   ]
  },
  {
   "cell_type": "code",
   "execution_count": 51,
   "metadata": {},
   "outputs": [
    {
     "name": "stdout",
     "output_type": "stream",
     "text": [
      "(1885, 19)\n"
     ]
    },
    {
     "data": {
      "text/html": [
       "<div>\n",
       "<style scoped>\n",
       "    .dataframe tbody tr th:only-of-type {\n",
       "        vertical-align: middle;\n",
       "    }\n",
       "\n",
       "    .dataframe tbody tr th {\n",
       "        vertical-align: top;\n",
       "    }\n",
       "\n",
       "    .dataframe thead th {\n",
       "        text-align: right;\n",
       "    }\n",
       "</style>\n",
       "<table border=\"1\" class=\"dataframe\">\n",
       "  <thead>\n",
       "    <tr style=\"text-align: right;\">\n",
       "      <th></th>\n",
       "      <th>Education_value</th>\n",
       "      <th>Education_level</th>\n",
       "      <th>Education</th>\n",
       "    </tr>\n",
       "  </thead>\n",
       "  <tbody>\n",
       "    <tr>\n",
       "      <th>1645</th>\n",
       "      <td>1.16365</td>\n",
       "      <td>8</td>\n",
       "      <td>Masters degree</td>\n",
       "    </tr>\n",
       "    <tr>\n",
       "      <th>1814</th>\n",
       "      <td>-0.61113</td>\n",
       "      <td>5</td>\n",
       "      <td>Some college but no degree</td>\n",
       "    </tr>\n",
       "    <tr>\n",
       "      <th>863</th>\n",
       "      <td>-0.61113</td>\n",
       "      <td>5</td>\n",
       "      <td>Some college but no degree</td>\n",
       "    </tr>\n",
       "    <tr>\n",
       "      <th>1494</th>\n",
       "      <td>1.16365</td>\n",
       "      <td>8</td>\n",
       "      <td>Masters degree</td>\n",
       "    </tr>\n",
       "    <tr>\n",
       "      <th>267</th>\n",
       "      <td>-0.05921</td>\n",
       "      <td>6</td>\n",
       "      <td>Professional certificate</td>\n",
       "    </tr>\n",
       "    <tr>\n",
       "      <th>1877</th>\n",
       "      <td>-1.43719</td>\n",
       "      <td>3</td>\n",
       "      <td>Left school at 17</td>\n",
       "    </tr>\n",
       "    <tr>\n",
       "      <th>1530</th>\n",
       "      <td>-0.61113</td>\n",
       "      <td>5</td>\n",
       "      <td>Some college but no degree</td>\n",
       "    </tr>\n",
       "    <tr>\n",
       "      <th>1073</th>\n",
       "      <td>-1.43719</td>\n",
       "      <td>3</td>\n",
       "      <td>Left school at 17</td>\n",
       "    </tr>\n",
       "    <tr>\n",
       "      <th>733</th>\n",
       "      <td>0.45468</td>\n",
       "      <td>7</td>\n",
       "      <td>University degree</td>\n",
       "    </tr>\n",
       "    <tr>\n",
       "      <th>845</th>\n",
       "      <td>0.45468</td>\n",
       "      <td>7</td>\n",
       "      <td>University degree</td>\n",
       "    </tr>\n",
       "  </tbody>\n",
       "</table>\n",
       "</div>"
      ],
      "text/plain": [
       "      Education_value  Education_level                   Education\n",
       "1645          1.16365                8              Masters degree\n",
       "1814         -0.61113                5  Some college but no degree\n",
       "863          -0.61113                5  Some college but no degree\n",
       "1494          1.16365                8              Masters degree\n",
       "267          -0.05921                6    Professional certificate\n",
       "1877         -1.43719                3           Left school at 17\n",
       "1530         -0.61113                5  Some college but no degree\n",
       "1073         -1.43719                3           Left school at 17\n",
       "733           0.45468                7           University degree\n",
       "845           0.45468                7           University degree"
      ]
     },
     "execution_count": 51,
     "metadata": {},
     "output_type": "execute_result"
    }
   ],
   "source": [
    "# left join to drug_1\n",
    "drug_1 = drug_1.merge(edu[['Education_value', 'Education_level', 'Education']], on='Education_value', how='left')\n",
    "print(drug_1.shape)\n",
    "drug_1.filter(regex='^Education', axis=1).sample(10)"
   ]
  },
  {
   "cell_type": "code",
   "execution_count": 52,
   "metadata": {},
   "outputs": [
    {
     "data": {
      "text/plain": [
       "Some college but no degree    506\n",
       "University degree             480\n",
       "Masters degree                283\n",
       "Professional certificate      270\n",
       "Left school at 18             100\n",
       "Left school at 16              99\n",
       "Doctorate degree               89\n",
       "Left school at 17              30\n",
       "Left school before 16          28\n",
       "Name: Education, dtype: int64"
      ]
     },
     "execution_count": 52,
     "metadata": {},
     "output_type": "execute_result"
    }
   ],
   "source": [
    "# Look at distribution of Education\n",
    "drug_1['Education'].value_counts()\n",
    "# Distribution should be the same as in dataset description by the owners."
   ]
  },
  {
   "cell_type": "code",
   "execution_count": 53,
   "metadata": {},
   "outputs": [
    {
     "data": {
      "text/html": [
       "<div>\n",
       "<style scoped>\n",
       "    .dataframe tbody tr th:only-of-type {\n",
       "        vertical-align: middle;\n",
       "    }\n",
       "\n",
       "    .dataframe tbody tr th {\n",
       "        vertical-align: top;\n",
       "    }\n",
       "\n",
       "    .dataframe thead th {\n",
       "        text-align: right;\n",
       "    }\n",
       "</style>\n",
       "<table border=\"1\" class=\"dataframe\">\n",
       "  <thead>\n",
       "    <tr style=\"text-align: right;\">\n",
       "      <th></th>\n",
       "      <th>Country_value</th>\n",
       "      <th>Country</th>\n",
       "      <th>Country_comment</th>\n",
       "    </tr>\n",
       "  </thead>\n",
       "  <tbody>\n",
       "    <tr>\n",
       "      <th>0</th>\n",
       "      <td>-0.09765</td>\n",
       "      <td>Australia</td>\n",
       "      <td>Australia 54 2.86%</td>\n",
       "    </tr>\n",
       "    <tr>\n",
       "      <th>1</th>\n",
       "      <td>0.24923</td>\n",
       "      <td>Canada</td>\n",
       "      <td>Canada 87 4.62%</td>\n",
       "    </tr>\n",
       "    <tr>\n",
       "      <th>2</th>\n",
       "      <td>-0.46841</td>\n",
       "      <td>New Zealand</td>\n",
       "      <td>New Zealand 5 0.27%</td>\n",
       "    </tr>\n",
       "    <tr>\n",
       "      <th>3</th>\n",
       "      <td>-0.28519</td>\n",
       "      <td>Other</td>\n",
       "      <td>Other 118 6.26%</td>\n",
       "    </tr>\n",
       "    <tr>\n",
       "      <th>4</th>\n",
       "      <td>0.21128</td>\n",
       "      <td>Republic of Ireland</td>\n",
       "      <td>Republic of Ireland 20 1.06%</td>\n",
       "    </tr>\n",
       "    <tr>\n",
       "      <th>5</th>\n",
       "      <td>0.96082</td>\n",
       "      <td>UK</td>\n",
       "      <td>UK 1044 55.38%</td>\n",
       "    </tr>\n",
       "    <tr>\n",
       "      <th>6</th>\n",
       "      <td>-0.57009</td>\n",
       "      <td>USA</td>\n",
       "      <td>USA 557 29.55%</td>\n",
       "    </tr>\n",
       "  </tbody>\n",
       "</table>\n",
       "</div>"
      ],
      "text/plain": [
       "   Country_value              Country               Country_comment\n",
       "0       -0.09765            Australia            Australia 54 2.86%\n",
       "1        0.24923               Canada               Canada 87 4.62%\n",
       "2       -0.46841          New Zealand           New Zealand 5 0.27%\n",
       "3       -0.28519                Other               Other 118 6.26%\n",
       "4        0.21128  Republic of Ireland  Republic of Ireland 20 1.06%\n",
       "5        0.96082                   UK                UK 1044 55.38%\n",
       "6       -0.57009                  USA                USA 557 29.55%"
      ]
     },
     "execution_count": 53,
     "metadata": {},
     "output_type": "execute_result"
    }
   ],
   "source": [
    "# Create categorical var \"Country\". Thanh manually create link file. We will load the link dataframe and use left join to \n",
    "# our dataframe drug_1\n",
    "country = pd.read_excel('../raw_data/Country.xlsx')\n",
    "country"
   ]
  },
  {
   "cell_type": "code",
   "execution_count": 54,
   "metadata": {},
   "outputs": [
    {
     "name": "stdout",
     "output_type": "stream",
     "text": [
      "(1885, 20)\n"
     ]
    },
    {
     "data": {
      "text/html": [
       "<div>\n",
       "<style scoped>\n",
       "    .dataframe tbody tr th:only-of-type {\n",
       "        vertical-align: middle;\n",
       "    }\n",
       "\n",
       "    .dataframe tbody tr th {\n",
       "        vertical-align: top;\n",
       "    }\n",
       "\n",
       "    .dataframe thead th {\n",
       "        text-align: right;\n",
       "    }\n",
       "</style>\n",
       "<table border=\"1\" class=\"dataframe\">\n",
       "  <thead>\n",
       "    <tr style=\"text-align: right;\">\n",
       "      <th></th>\n",
       "      <th>Country_value</th>\n",
       "      <th>Country</th>\n",
       "    </tr>\n",
       "  </thead>\n",
       "  <tbody>\n",
       "    <tr>\n",
       "      <th>591</th>\n",
       "      <td>-0.28519</td>\n",
       "      <td>Other</td>\n",
       "    </tr>\n",
       "    <tr>\n",
       "      <th>70</th>\n",
       "      <td>0.96082</td>\n",
       "      <td>UK</td>\n",
       "    </tr>\n",
       "    <tr>\n",
       "      <th>725</th>\n",
       "      <td>0.96082</td>\n",
       "      <td>UK</td>\n",
       "    </tr>\n",
       "    <tr>\n",
       "      <th>923</th>\n",
       "      <td>-0.57009</td>\n",
       "      <td>USA</td>\n",
       "    </tr>\n",
       "    <tr>\n",
       "      <th>1215</th>\n",
       "      <td>-0.57009</td>\n",
       "      <td>USA</td>\n",
       "    </tr>\n",
       "    <tr>\n",
       "      <th>1536</th>\n",
       "      <td>-0.57009</td>\n",
       "      <td>USA</td>\n",
       "    </tr>\n",
       "    <tr>\n",
       "      <th>1420</th>\n",
       "      <td>-0.57009</td>\n",
       "      <td>USA</td>\n",
       "    </tr>\n",
       "    <tr>\n",
       "      <th>1831</th>\n",
       "      <td>-0.57009</td>\n",
       "      <td>USA</td>\n",
       "    </tr>\n",
       "    <tr>\n",
       "      <th>1081</th>\n",
       "      <td>0.96082</td>\n",
       "      <td>UK</td>\n",
       "    </tr>\n",
       "    <tr>\n",
       "      <th>327</th>\n",
       "      <td>0.96082</td>\n",
       "      <td>UK</td>\n",
       "    </tr>\n",
       "  </tbody>\n",
       "</table>\n",
       "</div>"
      ],
      "text/plain": [
       "      Country_value Country\n",
       "591        -0.28519   Other\n",
       "70          0.96082      UK\n",
       "725         0.96082      UK\n",
       "923        -0.57009     USA\n",
       "1215       -0.57009     USA\n",
       "1536       -0.57009     USA\n",
       "1420       -0.57009     USA\n",
       "1831       -0.57009     USA\n",
       "1081        0.96082      UK\n",
       "327         0.96082      UK"
      ]
     },
     "execution_count": 54,
     "metadata": {},
     "output_type": "execute_result"
    }
   ],
   "source": [
    "# left join to drug_1\n",
    "drug_1 = drug_1.merge(country[['Country_value', 'Country']], on='Country_value', how='left')\n",
    "print(drug_1.shape)\n",
    "drug_1.filter(regex='^Country', axis=1).sample(10)"
   ]
  },
  {
   "cell_type": "code",
   "execution_count": 55,
   "metadata": {},
   "outputs": [
    {
     "data": {
      "text/plain": [
       "UK                     1044\n",
       "USA                     557\n",
       "Other                   118\n",
       "Canada                   87\n",
       "Australia                54\n",
       "Republic of Ireland      20\n",
       "New Zealand               5\n",
       "Name: Country, dtype: int64"
      ]
     },
     "execution_count": 55,
     "metadata": {},
     "output_type": "execute_result"
    }
   ],
   "source": [
    "# Look at distribution of Country\n",
    "drug_1['Country'].value_counts()\n",
    "# Distribution should be the same as in dataset description by the owners."
   ]
  },
  {
   "cell_type": "code",
   "execution_count": 57,
   "metadata": {},
   "outputs": [
    {
     "data": {
      "text/html": [
       "<div>\n",
       "<style scoped>\n",
       "    .dataframe tbody tr th:only-of-type {\n",
       "        vertical-align: middle;\n",
       "    }\n",
       "\n",
       "    .dataframe tbody tr th {\n",
       "        vertical-align: top;\n",
       "    }\n",
       "\n",
       "    .dataframe thead th {\n",
       "        text-align: right;\n",
       "    }\n",
       "</style>\n",
       "<table border=\"1\" class=\"dataframe\">\n",
       "  <thead>\n",
       "    <tr style=\"text-align: right;\">\n",
       "      <th></th>\n",
       "      <th>Ethnicity_value</th>\n",
       "      <th>Ethnicity</th>\n",
       "      <th>Ethnicity_cases</th>\n",
       "      <th>Ethnicity_fraction</th>\n",
       "    </tr>\n",
       "  </thead>\n",
       "  <tbody>\n",
       "    <tr>\n",
       "      <th>0</th>\n",
       "      <td>-0.50212</td>\n",
       "      <td>Asian</td>\n",
       "      <td>26</td>\n",
       "      <td>0.0138</td>\n",
       "    </tr>\n",
       "    <tr>\n",
       "      <th>1</th>\n",
       "      <td>-1.10702</td>\n",
       "      <td>Black</td>\n",
       "      <td>33</td>\n",
       "      <td>0.0175</td>\n",
       "    </tr>\n",
       "    <tr>\n",
       "      <th>2</th>\n",
       "      <td>1.90725</td>\n",
       "      <td>Mixed-Black/Asian</td>\n",
       "      <td>3</td>\n",
       "      <td>0.0016</td>\n",
       "    </tr>\n",
       "    <tr>\n",
       "      <th>3</th>\n",
       "      <td>0.12600</td>\n",
       "      <td>Mixed-White/Asian</td>\n",
       "      <td>20</td>\n",
       "      <td>0.0106</td>\n",
       "    </tr>\n",
       "    <tr>\n",
       "      <th>4</th>\n",
       "      <td>-0.22166</td>\n",
       "      <td>Mixed-White/Black</td>\n",
       "      <td>20</td>\n",
       "      <td>0.0106</td>\n",
       "    </tr>\n",
       "    <tr>\n",
       "      <th>5</th>\n",
       "      <td>0.11440</td>\n",
       "      <td>Other</td>\n",
       "      <td>63</td>\n",
       "      <td>0.0334</td>\n",
       "    </tr>\n",
       "    <tr>\n",
       "      <th>6</th>\n",
       "      <td>-0.31685</td>\n",
       "      <td>White</td>\n",
       "      <td>1720</td>\n",
       "      <td>0.9125</td>\n",
       "    </tr>\n",
       "  </tbody>\n",
       "</table>\n",
       "</div>"
      ],
      "text/plain": [
       "   Ethnicity_value          Ethnicity  Ethnicity_cases  Ethnicity_fraction\n",
       "0         -0.50212              Asian               26              0.0138\n",
       "1         -1.10702              Black               33              0.0175\n",
       "2          1.90725  Mixed-Black/Asian                3              0.0016\n",
       "3          0.12600  Mixed-White/Asian               20              0.0106\n",
       "4         -0.22166  Mixed-White/Black               20              0.0106\n",
       "5          0.11440              Other               63              0.0334\n",
       "6         -0.31685              White             1720              0.9125"
      ]
     },
     "execution_count": 57,
     "metadata": {},
     "output_type": "execute_result"
    }
   ],
   "source": [
    "# Create categorical var \"Ethnicity\". Thanh manually create link file. We will load the link dataframe and use left join to \n",
    "# our dataframe drug_1\n",
    "ethnicity = pd.read_excel('../raw_data/Ethnicity.xlsx')\n",
    "ethnicity"
   ]
  },
  {
   "cell_type": "code",
   "execution_count": 58,
   "metadata": {},
   "outputs": [
    {
     "name": "stdout",
     "output_type": "stream",
     "text": [
      "(1885, 21)\n"
     ]
    },
    {
     "data": {
      "text/html": [
       "<div>\n",
       "<style scoped>\n",
       "    .dataframe tbody tr th:only-of-type {\n",
       "        vertical-align: middle;\n",
       "    }\n",
       "\n",
       "    .dataframe tbody tr th {\n",
       "        vertical-align: top;\n",
       "    }\n",
       "\n",
       "    .dataframe thead th {\n",
       "        text-align: right;\n",
       "    }\n",
       "</style>\n",
       "<table border=\"1\" class=\"dataframe\">\n",
       "  <thead>\n",
       "    <tr style=\"text-align: right;\">\n",
       "      <th></th>\n",
       "      <th>Ethnicity_value</th>\n",
       "      <th>Ethnicity</th>\n",
       "    </tr>\n",
       "  </thead>\n",
       "  <tbody>\n",
       "    <tr>\n",
       "      <th>931</th>\n",
       "      <td>-0.31685</td>\n",
       "      <td>White</td>\n",
       "    </tr>\n",
       "    <tr>\n",
       "      <th>3</th>\n",
       "      <td>-0.31685</td>\n",
       "      <td>White</td>\n",
       "    </tr>\n",
       "    <tr>\n",
       "      <th>125</th>\n",
       "      <td>-0.31685</td>\n",
       "      <td>White</td>\n",
       "    </tr>\n",
       "    <tr>\n",
       "      <th>1877</th>\n",
       "      <td>-0.31685</td>\n",
       "      <td>White</td>\n",
       "    </tr>\n",
       "    <tr>\n",
       "      <th>470</th>\n",
       "      <td>-0.22166</td>\n",
       "      <td>Mixed-White/Black</td>\n",
       "    </tr>\n",
       "    <tr>\n",
       "      <th>565</th>\n",
       "      <td>-0.31685</td>\n",
       "      <td>White</td>\n",
       "    </tr>\n",
       "    <tr>\n",
       "      <th>1095</th>\n",
       "      <td>-0.31685</td>\n",
       "      <td>White</td>\n",
       "    </tr>\n",
       "    <tr>\n",
       "      <th>1684</th>\n",
       "      <td>-0.31685</td>\n",
       "      <td>White</td>\n",
       "    </tr>\n",
       "    <tr>\n",
       "      <th>15</th>\n",
       "      <td>-0.31685</td>\n",
       "      <td>White</td>\n",
       "    </tr>\n",
       "    <tr>\n",
       "      <th>62</th>\n",
       "      <td>-0.31685</td>\n",
       "      <td>White</td>\n",
       "    </tr>\n",
       "  </tbody>\n",
       "</table>\n",
       "</div>"
      ],
      "text/plain": [
       "      Ethnicity_value          Ethnicity\n",
       "931          -0.31685              White\n",
       "3            -0.31685              White\n",
       "125          -0.31685              White\n",
       "1877         -0.31685              White\n",
       "470          -0.22166  Mixed-White/Black\n",
       "565          -0.31685              White\n",
       "1095         -0.31685              White\n",
       "1684         -0.31685              White\n",
       "15           -0.31685              White\n",
       "62           -0.31685              White"
      ]
     },
     "execution_count": 58,
     "metadata": {},
     "output_type": "execute_result"
    }
   ],
   "source": [
    "# left join to drug_1\n",
    "drug_1 = drug_1.merge(ethnicity[['Ethnicity_value', 'Ethnicity']], on='Ethnicity_value', how='left')\n",
    "print(drug_1.shape)\n",
    "drug_1.filter(regex='^Ethnicity', axis=1).sample(10)"
   ]
  },
  {
   "cell_type": "code",
   "execution_count": 59,
   "metadata": {},
   "outputs": [
    {
     "data": {
      "text/plain": [
       "White                1720\n",
       "Other                  63\n",
       "Black                  33\n",
       "Asian                  26\n",
       "Mixed-White/Asian      20\n",
       "Mixed-White/Black      20\n",
       "Mixed-Black/Asian       3\n",
       "Name: Ethnicity, dtype: int64"
      ]
     },
     "execution_count": 59,
     "metadata": {},
     "output_type": "execute_result"
    }
   ],
   "source": [
    "# Look at distribution of Ethnicity\n",
    "drug_1['Ethnicity'].value_counts()\n",
    "# Distribution should be the same as in dataset description by the owners."
   ]
  },
  {
   "cell_type": "code",
   "execution_count": 63,
   "metadata": {},
   "outputs": [],
   "source": [
    "# Create variable 'Age_level' that is similar to 'Education_level'\n",
    "# Define function to create new column 'Age_level'\n",
    "def f_1(row):\n",
    "    if row['Age_value'] == -0.95197:\n",
    "        val = 1\n",
    "    elif row['Age_value'] == -0.07854:\n",
    "        val = 2\n",
    "    elif row['Age_value'] == 0.49788:\n",
    "        val = 3\n",
    "    elif row['Age_value'] == 1.09449:\n",
    "        val = 4\n",
    "    elif row['Age_value'] == 1.82213:\n",
    "        val = 5\n",
    "    elif row['Age_value'] == 2.59171:\n",
    "        val = 6\n",
    "    else:\n",
    "        val = 0\n",
    "    return val"
   ]
  },
  {
   "cell_type": "code",
   "execution_count": 64,
   "metadata": {},
   "outputs": [
    {
     "data": {
      "text/html": [
       "<div>\n",
       "<style scoped>\n",
       "    .dataframe tbody tr th:only-of-type {\n",
       "        vertical-align: middle;\n",
       "    }\n",
       "\n",
       "    .dataframe tbody tr th {\n",
       "        vertical-align: top;\n",
       "    }\n",
       "\n",
       "    .dataframe thead th {\n",
       "        text-align: right;\n",
       "    }\n",
       "</style>\n",
       "<table border=\"1\" class=\"dataframe\">\n",
       "  <thead>\n",
       "    <tr style=\"text-align: right;\">\n",
       "      <th></th>\n",
       "      <th>Age_value</th>\n",
       "      <th>Age</th>\n",
       "      <th>Age_level</th>\n",
       "    </tr>\n",
       "  </thead>\n",
       "  <tbody>\n",
       "    <tr>\n",
       "      <th>890</th>\n",
       "      <td>-0.07854</td>\n",
       "      <td>age25-34</td>\n",
       "      <td>2</td>\n",
       "    </tr>\n",
       "    <tr>\n",
       "      <th>791</th>\n",
       "      <td>-0.07854</td>\n",
       "      <td>age25-34</td>\n",
       "      <td>2</td>\n",
       "    </tr>\n",
       "    <tr>\n",
       "      <th>1216</th>\n",
       "      <td>-0.07854</td>\n",
       "      <td>age25-34</td>\n",
       "      <td>2</td>\n",
       "    </tr>\n",
       "    <tr>\n",
       "      <th>99</th>\n",
       "      <td>-0.07854</td>\n",
       "      <td>age25-34</td>\n",
       "      <td>2</td>\n",
       "    </tr>\n",
       "    <tr>\n",
       "      <th>311</th>\n",
       "      <td>-0.07854</td>\n",
       "      <td>age25-34</td>\n",
       "      <td>2</td>\n",
       "    </tr>\n",
       "    <tr>\n",
       "      <th>1496</th>\n",
       "      <td>1.09449</td>\n",
       "      <td>age45-54</td>\n",
       "      <td>4</td>\n",
       "    </tr>\n",
       "    <tr>\n",
       "      <th>88</th>\n",
       "      <td>0.49788</td>\n",
       "      <td>age35-44</td>\n",
       "      <td>3</td>\n",
       "    </tr>\n",
       "    <tr>\n",
       "      <th>818</th>\n",
       "      <td>-0.95197</td>\n",
       "      <td>age18_24</td>\n",
       "      <td>1</td>\n",
       "    </tr>\n",
       "    <tr>\n",
       "      <th>1296</th>\n",
       "      <td>-0.07854</td>\n",
       "      <td>age25-34</td>\n",
       "      <td>2</td>\n",
       "    </tr>\n",
       "    <tr>\n",
       "      <th>369</th>\n",
       "      <td>-0.95197</td>\n",
       "      <td>age18_24</td>\n",
       "      <td>1</td>\n",
       "    </tr>\n",
       "  </tbody>\n",
       "</table>\n",
       "</div>"
      ],
      "text/plain": [
       "      Age_value       Age  Age_level\n",
       "890    -0.07854  age25-34          2\n",
       "791    -0.07854  age25-34          2\n",
       "1216   -0.07854  age25-34          2\n",
       "99     -0.07854  age25-34          2\n",
       "311    -0.07854  age25-34          2\n",
       "1496    1.09449  age45-54          4\n",
       "88      0.49788  age35-44          3\n",
       "818    -0.95197  age18_24          1\n",
       "1296   -0.07854  age25-34          2\n",
       "369    -0.95197  age18_24          1"
      ]
     },
     "execution_count": 64,
     "metadata": {},
     "output_type": "execute_result"
    }
   ],
   "source": [
    "# Create new column 'Age_level'\n",
    "drug_1['Age_level'] = drug_1.apply(f_1, axis=1)\n",
    "drug_1.filter(regex='^Age', axis=1).sample(10)"
   ]
  },
  {
   "cell_type": "code",
   "execution_count": 65,
   "metadata": {},
   "outputs": [
    {
     "data": {
      "text/plain": [
       "1    643\n",
       "2    481\n",
       "3    356\n",
       "4    294\n",
       "5     93\n",
       "6     18\n",
       "Name: Age_level, dtype: int64"
      ]
     },
     "execution_count": 65,
     "metadata": {},
     "output_type": "execute_result"
    }
   ],
   "source": [
    "# Look at distribution of Age_level\n",
    "drug_1['Age_level'].value_counts()\n",
    "# Distribution should be the same as in dataset description by the owners."
   ]
  },
  {
   "cell_type": "code",
   "execution_count": 73,
   "metadata": {},
   "outputs": [
    {
     "name": "stdout",
     "output_type": "stream",
     "text": [
      "Nscore\n",
      "-3.46436     1\n",
      "-3.15735     1\n",
      "-2.75696     7\n",
      "-2.52197     4\n",
      "-2.42317     3\n",
      "-2.34360     4\n",
      "-2.21844    10\n",
      "-2.05048    16\n",
      "-1.86962    24\n",
      "-1.69163    31\n",
      "-1.55078    26\n",
      "-1.43907    29\n",
      "-1.32828    35\n",
      "-1.19430    56\n",
      "-1.05308    57\n",
      "-0.92104    65\n",
      "-0.79151    70\n",
      "-0.67825    60\n",
      "-0.58016    61\n",
      "-0.46725    87\n",
      "-0.34799    78\n",
      "-0.24649    68\n",
      "-0.14882    76\n",
      "-0.05188    69\n",
      " 0.04257    73\n",
      " 0.13606    67\n",
      " 0.22393    63\n",
      " 0.31287    66\n",
      " 0.41667    80\n",
      " 0.52135    61\n",
      " 0.62967    77\n",
      " 0.73545    49\n",
      " 0.82562    51\n",
      " 0.91093    37\n",
      " 1.02119    67\n",
      " 1.13281    27\n",
      " 1.23461    49\n",
      " 1.37297    40\n",
      " 1.49158    24\n",
      " 1.60383    27\n",
      " 1.72012    17\n",
      " 1.83990    20\n",
      " 1.98437    15\n",
      " 2.12700    11\n",
      " 2.28554    10\n",
      " 2.46262     6\n",
      " 2.61139     3\n",
      " 2.82196     5\n",
      " 3.27393     2\n",
      "Name: Nscore, dtype: int64\n",
      "Escore\n",
      "-3.27393      2\n",
      "-3.00537      1\n",
      "-2.72827      6\n",
      "-2.53830      3\n",
      "-2.44904      3\n",
      "-2.32338      8\n",
      "-2.21069      5\n",
      "-2.11437      9\n",
      "-2.03972      4\n",
      "-1.92173     21\n",
      "-1.76250     23\n",
      "-1.63340     23\n",
      "-1.50796     32\n",
      "-1.37639     38\n",
      "-1.23177     55\n",
      "-1.09207     52\n",
      "-0.94779     77\n",
      "-0.80615     68\n",
      "-0.69509     58\n",
      "-0.57545     89\n",
      "-0.43999     90\n",
      "-0.30033    106\n",
      "-0.15487    107\n",
      " 0.00332    130\n",
      " 0.16767    116\n",
      " 0.32197    109\n",
      " 0.47617    105\n",
      " 0.63779    103\n",
      " 0.80523     91\n",
      " 0.96248     69\n",
      " 1.11406     64\n",
      " 1.28610     62\n",
      " 1.45421     37\n",
      " 1.58487     25\n",
      " 1.74091     34\n",
      " 1.93886     21\n",
      " 2.12700     15\n",
      " 2.32338     10\n",
      " 2.57309      9\n",
      " 2.85950      2\n",
      " 3.00537      1\n",
      " 3.27393      2\n",
      "Name: Escore, dtype: int64\n",
      "Oscore\n",
      "-3.27393      2\n",
      "-2.85950      4\n",
      "-2.63199      4\n",
      "-2.39883     11\n",
      "-2.21069      9\n",
      "-2.09015      9\n",
      "-1.97495     13\n",
      "-1.82919     23\n",
      "-1.68062     25\n",
      "-1.55521     26\n",
      "-1.42424     39\n",
      "-1.27553     51\n",
      "-1.11902     64\n",
      "-0.97631     60\n",
      "-0.84732     68\n",
      "-0.71727     76\n",
      "-0.58331     87\n",
      "-0.45174     86\n",
      "-0.31776    101\n",
      "-0.17779    103\n",
      "-0.01928    134\n",
      " 0.14143    107\n",
      " 0.29338    116\n",
      " 0.44585     98\n",
      " 0.58331     83\n",
      " 0.72330     87\n",
      " 0.88309     87\n",
      " 1.06238     81\n",
      " 1.24033     57\n",
      " 1.43533     63\n",
      " 1.65653     38\n",
      " 1.88511     34\n",
      " 2.15324     19\n",
      " 2.44904     13\n",
      " 2.90161      7\n",
      "Name: Oscore, dtype: int64\n",
      "Ascore\n",
      "-3.46436      1\n",
      "-3.15735      1\n",
      "-3.00537      1\n",
      "-2.90161      1\n",
      "-2.78793      2\n",
      "-2.70172      1\n",
      "-2.53830      7\n",
      "-2.35413      7\n",
      "-2.21844      8\n",
      "-2.07848     13\n",
      "-1.92595     18\n",
      "-1.77200     24\n",
      "-1.62090     30\n",
      "-1.47955     34\n",
      "-1.34289     42\n",
      "-1.21213     45\n",
      "-1.07533     62\n",
      "-0.91699     83\n",
      "-0.76096     82\n",
      "-0.60633    102\n",
      "-0.45321     98\n",
      "-0.30172    114\n",
      "-0.15487    101\n",
      "-0.01729    105\n",
      " 0.13136    118\n",
      " 0.28783    112\n",
      " 0.43852    100\n",
      " 0.59042    100\n",
      " 0.76096    104\n",
      " 0.94156     85\n",
      " 1.11406     68\n",
      " 1.28610     58\n",
      " 1.45039     39\n",
      " 1.61108     36\n",
      " 1.81866     36\n",
      " 2.03972     16\n",
      " 2.23427     14\n",
      " 2.46262      8\n",
      " 2.75696      7\n",
      " 3.15735      1\n",
      " 3.46436      1\n",
      "Name: Ascore, dtype: int64\n",
      "Cscore\n",
      "-3.46436      1\n",
      "-3.15735      1\n",
      "-2.90161      3\n",
      "-2.72827      2\n",
      "-2.57309      5\n",
      "-2.42317      5\n",
      "-2.30408      6\n",
      "-2.18109      9\n",
      "-2.04506     13\n",
      "-1.92173     13\n",
      "-1.78169     25\n",
      "-1.64101     24\n",
      "-1.51840     29\n",
      "-1.38502     41\n",
      "-1.25773     39\n",
      "-1.13788     49\n",
      "-1.01450     55\n",
      "-0.89891     55\n",
      "-0.78155     69\n",
      "-0.65253     81\n",
      "-0.52745     77\n",
      "-0.40581     87\n",
      "-0.27607     97\n",
      "-0.14277     99\n",
      "-0.00665    105\n",
      " 0.12331     90\n",
      " 0.25953    111\n",
      " 0.41594    111\n",
      " 0.58489    113\n",
      " 0.75830     95\n",
      " 0.93949     95\n",
      " 1.13407     76\n",
      " 1.30612     47\n",
      " 1.46191     43\n",
      " 1.63088     34\n",
      " 1.81175     28\n",
      " 2.04506     27\n",
      " 2.33337     13\n",
      " 2.63199      8\n",
      " 3.00537      3\n",
      " 3.46436      1\n",
      "Name: Cscore, dtype: int64\n",
      "Impulsive\n",
      "-2.55524     20\n",
      "-1.37983    276\n",
      "-0.71126    307\n",
      "-0.21712    355\n",
      " 0.19268    257\n",
      " 0.52975    216\n",
      " 0.88113    195\n",
      " 1.29221    148\n",
      " 1.86203    104\n",
      " 2.90161      7\n",
      "Name: Impulsive, dtype: int64\n",
      "SS\n",
      "-2.07848     71\n",
      "-1.54858     87\n",
      "-1.18084    132\n",
      "-0.84637    169\n",
      "-0.52593    211\n",
      "-0.21575    223\n",
      " 0.07987    219\n",
      " 0.40148    249\n",
      " 0.76540    211\n",
      " 1.22470    210\n",
      " 1.92173    103\n",
      "Name: SS, dtype: int64\n"
     ]
    }
   ],
   "source": [
    "# Let check distribution of all other personality features\n",
    "col_list = ['Nscore', 'Escore', 'Oscore', 'Ascore', 'Cscore', 'Impulsive', 'SS']\n",
    "for col in col_list:\n",
    "    print(col)\n",
    "    print(drug_1[col].value_counts().sort_index())"
   ]
  },
  {
   "cell_type": "markdown",
   "metadata": {
    "id": "_D9hkNEj6eof"
   },
   "source": [
    "## 2.4) Transform two target variables to binary classification\n",
    "The two target variables Amyl and Cannabis have values from CL0 to CL7. Let transform to binary classification: \"Never Used\" and \"Used over a Decade Ago\" are considered \"Non-user\"; and all other classes form class \"User\"."
   ]
  },
  {
   "cell_type": "code",
   "execution_count": 75,
   "metadata": {},
   "outputs": [
    {
     "name": "stdout",
     "output_type": "stream",
     "text": [
      "Amyl\n",
      "CL0    1305\n",
      "CL1     210\n",
      "CL2     237\n",
      "CL3      92\n",
      "CL4      24\n",
      "CL5      14\n",
      "CL6       3\n",
      "Name: Amyl, dtype: int64\n",
      "Cannabis\n",
      "CL0    413\n",
      "CL1    207\n",
      "CL2    266\n",
      "CL3    211\n",
      "CL4    140\n",
      "CL5    185\n",
      "CL6    463\n",
      "Name: Cannabis, dtype: int64\n"
     ]
    }
   ],
   "source": [
    "# Look at value_counts of the two drug\n",
    "col_list = ['Amyl', 'Cannabis']\n",
    "for col in col_list:\n",
    "    print(col)\n",
    "    print(drug_1[col].value_counts().sort_index())"
   ]
  },
  {
   "cell_type": "code",
   "execution_count": 86,
   "metadata": {
    "scrolled": false
   },
   "outputs": [],
   "source": [
    "# Create 'Amyl_binary'\n",
    "drug_1['Amyl_binary'] = np.where(drug_1['Amyl'].isin(['CL0', 'CL1']), 'Non-user', 'User')"
   ]
  },
  {
   "cell_type": "code",
   "execution_count": 88,
   "metadata": {
    "scrolled": true
   },
   "outputs": [
    {
     "data": {
      "text/html": [
       "<div>\n",
       "<style scoped>\n",
       "    .dataframe tbody tr th:only-of-type {\n",
       "        vertical-align: middle;\n",
       "    }\n",
       "\n",
       "    .dataframe tbody tr th {\n",
       "        vertical-align: top;\n",
       "    }\n",
       "\n",
       "    .dataframe thead th {\n",
       "        text-align: right;\n",
       "    }\n",
       "</style>\n",
       "<table border=\"1\" class=\"dataframe\">\n",
       "  <thead>\n",
       "    <tr style=\"text-align: right;\">\n",
       "      <th></th>\n",
       "      <th>Amyl</th>\n",
       "      <th>Amyl_binary</th>\n",
       "      <th>Amyl_user</th>\n",
       "    </tr>\n",
       "  </thead>\n",
       "  <tbody>\n",
       "    <tr>\n",
       "      <th>228</th>\n",
       "      <td>CL1</td>\n",
       "      <td>Non-user</td>\n",
       "      <td>0</td>\n",
       "    </tr>\n",
       "    <tr>\n",
       "      <th>462</th>\n",
       "      <td>CL2</td>\n",
       "      <td>User</td>\n",
       "      <td>1</td>\n",
       "    </tr>\n",
       "    <tr>\n",
       "      <th>115</th>\n",
       "      <td>CL2</td>\n",
       "      <td>User</td>\n",
       "      <td>1</td>\n",
       "    </tr>\n",
       "    <tr>\n",
       "      <th>134</th>\n",
       "      <td>CL0</td>\n",
       "      <td>Non-user</td>\n",
       "      <td>0</td>\n",
       "    </tr>\n",
       "    <tr>\n",
       "      <th>250</th>\n",
       "      <td>CL0</td>\n",
       "      <td>Non-user</td>\n",
       "      <td>0</td>\n",
       "    </tr>\n",
       "    <tr>\n",
       "      <th>165</th>\n",
       "      <td>CL0</td>\n",
       "      <td>Non-user</td>\n",
       "      <td>0</td>\n",
       "    </tr>\n",
       "    <tr>\n",
       "      <th>113</th>\n",
       "      <td>CL0</td>\n",
       "      <td>Non-user</td>\n",
       "      <td>0</td>\n",
       "    </tr>\n",
       "    <tr>\n",
       "      <th>788</th>\n",
       "      <td>CL4</td>\n",
       "      <td>User</td>\n",
       "      <td>1</td>\n",
       "    </tr>\n",
       "    <tr>\n",
       "      <th>675</th>\n",
       "      <td>CL2</td>\n",
       "      <td>User</td>\n",
       "      <td>1</td>\n",
       "    </tr>\n",
       "    <tr>\n",
       "      <th>735</th>\n",
       "      <td>CL0</td>\n",
       "      <td>Non-user</td>\n",
       "      <td>0</td>\n",
       "    </tr>\n",
       "  </tbody>\n",
       "</table>\n",
       "</div>"
      ],
      "text/plain": [
       "    Amyl Amyl_binary  Amyl_user\n",
       "228  CL1    Non-user          0\n",
       "462  CL2        User          1\n",
       "115  CL2        User          1\n",
       "134  CL0    Non-user          0\n",
       "250  CL0    Non-user          0\n",
       "165  CL0    Non-user          0\n",
       "113  CL0    Non-user          0\n",
       "788  CL4        User          1\n",
       "675  CL2        User          1\n",
       "735  CL0    Non-user          0"
      ]
     },
     "execution_count": 88,
     "metadata": {},
     "output_type": "execute_result"
    }
   ],
   "source": [
    "# Create dummy variable 'Amyl_user'\n",
    "drug_1['Amyl_user'] = np.where(drug_1['Amyl'].isin(['CL0', 'CL1']), 0, 1)\n",
    "drug_1.filter(regex='^Amyl', axis=1).sample(10)"
   ]
  },
  {
   "cell_type": "code",
   "execution_count": 89,
   "metadata": {},
   "outputs": [
    {
     "name": "stdout",
     "output_type": "stream",
     "text": [
      "Amyl_binary\n",
      "Non-user    1515\n",
      "User         370\n",
      "Name: Amyl_binary, dtype: int64\n",
      "Amyl_user\n",
      "0    1515\n",
      "1     370\n",
      "Name: Amyl_user, dtype: int64\n"
     ]
    }
   ],
   "source": [
    "# Look at value_counts of the two new var\n",
    "col_list = ['Amyl_binary', 'Amyl_user']\n",
    "for col in col_list:\n",
    "    print(col)\n",
    "    print(drug_1[col].value_counts().sort_index())"
   ]
  },
  {
   "cell_type": "code",
   "execution_count": 90,
   "metadata": {},
   "outputs": [
    {
     "data": {
      "text/html": [
       "<div>\n",
       "<style scoped>\n",
       "    .dataframe tbody tr th:only-of-type {\n",
       "        vertical-align: middle;\n",
       "    }\n",
       "\n",
       "    .dataframe tbody tr th {\n",
       "        vertical-align: top;\n",
       "    }\n",
       "\n",
       "    .dataframe thead th {\n",
       "        text-align: right;\n",
       "    }\n",
       "</style>\n",
       "<table border=\"1\" class=\"dataframe\">\n",
       "  <thead>\n",
       "    <tr style=\"text-align: right;\">\n",
       "      <th></th>\n",
       "      <th>Cannabis</th>\n",
       "      <th>Cannabis_binary</th>\n",
       "      <th>Cannabis_user</th>\n",
       "    </tr>\n",
       "  </thead>\n",
       "  <tbody>\n",
       "    <tr>\n",
       "      <th>500</th>\n",
       "      <td>CL2</td>\n",
       "      <td>User</td>\n",
       "      <td>1</td>\n",
       "    </tr>\n",
       "    <tr>\n",
       "      <th>253</th>\n",
       "      <td>CL2</td>\n",
       "      <td>User</td>\n",
       "      <td>1</td>\n",
       "    </tr>\n",
       "    <tr>\n",
       "      <th>862</th>\n",
       "      <td>CL6</td>\n",
       "      <td>User</td>\n",
       "      <td>1</td>\n",
       "    </tr>\n",
       "    <tr>\n",
       "      <th>296</th>\n",
       "      <td>CL0</td>\n",
       "      <td>Non-user</td>\n",
       "      <td>0</td>\n",
       "    </tr>\n",
       "    <tr>\n",
       "      <th>1354</th>\n",
       "      <td>CL3</td>\n",
       "      <td>User</td>\n",
       "      <td>1</td>\n",
       "    </tr>\n",
       "    <tr>\n",
       "      <th>142</th>\n",
       "      <td>CL1</td>\n",
       "      <td>Non-user</td>\n",
       "      <td>0</td>\n",
       "    </tr>\n",
       "    <tr>\n",
       "      <th>1236</th>\n",
       "      <td>CL0</td>\n",
       "      <td>Non-user</td>\n",
       "      <td>0</td>\n",
       "    </tr>\n",
       "    <tr>\n",
       "      <th>1352</th>\n",
       "      <td>CL6</td>\n",
       "      <td>User</td>\n",
       "      <td>1</td>\n",
       "    </tr>\n",
       "    <tr>\n",
       "      <th>98</th>\n",
       "      <td>CL1</td>\n",
       "      <td>Non-user</td>\n",
       "      <td>0</td>\n",
       "    </tr>\n",
       "    <tr>\n",
       "      <th>48</th>\n",
       "      <td>CL5</td>\n",
       "      <td>User</td>\n",
       "      <td>1</td>\n",
       "    </tr>\n",
       "  </tbody>\n",
       "</table>\n",
       "</div>"
      ],
      "text/plain": [
       "     Cannabis Cannabis_binary  Cannabis_user\n",
       "500       CL2            User              1\n",
       "253       CL2            User              1\n",
       "862       CL6            User              1\n",
       "296       CL0        Non-user              0\n",
       "1354      CL3            User              1\n",
       "142       CL1        Non-user              0\n",
       "1236      CL0        Non-user              0\n",
       "1352      CL6            User              1\n",
       "98        CL1        Non-user              0\n",
       "48        CL5            User              1"
      ]
     },
     "execution_count": 90,
     "metadata": {},
     "output_type": "execute_result"
    }
   ],
   "source": [
    "# Create 'Cannabis_binary' and dummy variable 'Cannabis_user'\n",
    "drug_1['Cannabis_binary'] = np.where(drug_1['Cannabis'].isin(['CL0', 'CL1']), 'Non-user', 'User')\n",
    "drug_1['Cannabis_user'] = np.where(drug_1['Cannabis'].isin(['CL0', 'CL1']), 0, 1)\n",
    "drug_1.filter(regex='^Cannabis', axis=1).sample(10)"
   ]
  },
  {
   "cell_type": "code",
   "execution_count": 91,
   "metadata": {},
   "outputs": [
    {
     "name": "stdout",
     "output_type": "stream",
     "text": [
      "Cannabis_binary\n",
      "Non-user     620\n",
      "User        1265\n",
      "Name: Cannabis_binary, dtype: int64\n",
      "Cannabis_user\n",
      "0     620\n",
      "1    1265\n",
      "Name: Cannabis_user, dtype: int64\n"
     ]
    }
   ],
   "source": [
    "# Look at value_counts of the two new var\n",
    "col_list = ['Cannabis_binary', 'Cannabis_user']\n",
    "for col in col_list:\n",
    "    print(col)\n",
    "    print(drug_1[col].value_counts().sort_index())"
   ]
  },
  {
   "cell_type": "code",
   "execution_count": 92,
   "metadata": {},
   "outputs": [
    {
     "name": "stdout",
     "output_type": "stream",
     "text": [
      "<class 'pandas.core.frame.DataFrame'>\n",
      "Int64Index: 1885 entries, 0 to 1884\n",
      "Data columns (total 26 columns):\n",
      " #   Column           Non-Null Count  Dtype  \n",
      "---  ------           --------------  -----  \n",
      " 0   ID               1885 non-null   int64  \n",
      " 1   Age_value        1885 non-null   float64\n",
      " 2   Gender_value     1885 non-null   float64\n",
      " 3   Education_value  1885 non-null   float64\n",
      " 4   Country_value    1885 non-null   float64\n",
      " 5   Ethnicity_value  1885 non-null   float64\n",
      " 6   Nscore           1885 non-null   float64\n",
      " 7   Escore           1885 non-null   float64\n",
      " 8   Oscore           1885 non-null   float64\n",
      " 9   Ascore           1885 non-null   float64\n",
      " 10  Cscore           1885 non-null   float64\n",
      " 11  Impulsive        1885 non-null   float64\n",
      " 12  SS               1885 non-null   float64\n",
      " 13  Amyl             1885 non-null   object \n",
      " 14  Cannabis         1885 non-null   object \n",
      " 15  Age              1885 non-null   object \n",
      " 16  Gender           1885 non-null   object \n",
      " 17  Education_level  1885 non-null   int64  \n",
      " 18  Education        1885 non-null   object \n",
      " 19  Country          1885 non-null   object \n",
      " 20  Ethnicity        1885 non-null   object \n",
      " 21  Age_level        1885 non-null   int64  \n",
      " 22  Amyl_binary      1885 non-null   object \n",
      " 23  Amyl_user        1885 non-null   int32  \n",
      " 24  Cannabis_binary  1885 non-null   object \n",
      " 25  Cannabis_user    1885 non-null   int32  \n",
      "dtypes: float64(12), int32(2), int64(3), object(9)\n",
      "memory usage: 382.9+ KB\n"
     ]
    }
   ],
   "source": [
    "# Hope we finish data wrangling now \n",
    "drug_1.info()"
   ]
  },
  {
   "cell_type": "code",
   "execution_count": 93,
   "metadata": {},
   "outputs": [],
   "source": [
    "# Save drug_1 to hard disk\n",
    "drug_1.to_csv('../data/drug_1.csv')"
   ]
  },
  {
   "cell_type": "markdown",
   "metadata": {
    "id": "JYvRsonijENC"
   },
   "source": [
    "Here is Thanh's research about the variables in the dataset.  \n",
    "At the end, Thanh will choose Amyl (var16) (this is 'party drug') and Cannabis (var19) (because it is everywhere now)\n",
    "\n",
    "1) Variable description \\\n",
    "var1 (column0): ID number \\\n",
    "var2(column1): Age \\\n",
    "var3: Gender (why quantified? should not be treated as continuos var) \\\n",
    "var4: Education \\\n",
    "var5: Country (should not be treated as continuos var) \\\n",
    "var6: Ethnicity (why quantified? should not be treated as continuos var) \\\n",
    "var7: Nscore = Neuroticism (trait characterized by iimpulnstability, anxiety, etc; loan than kinh, de bi kich thich) \\\n",
    "var8: Escore = Extraversion (the directing of one's interest outwards, esp towards social contacts) \\\n",
    "var9: Oscore = Openness to experience \\\n",
    "var10: Ascore = Agreeableness (Tinh de chiu, tinh de thuong, su tan thanh, su dong y) \\\n",
    "var11: Cscore = Conscientiousness, su tan tam, lam theo luong tam, su ngay thang \\\n",
    "var12: impulsiveness, do things suddenly without thinking carefully \\\n",
    "var13: SS = sensation seeking \\\n",
    "var14: alcohol  \n",
    "var15: Amphet https://medlineplus.gov/ency/patientinstructions/000792.htm \n",
    "Amphetamines are drugs. They can be legal or illegal. They are legal when they are prescribed by a doctor and used to treat health problems such as obesity, narcolepsy, or attention deficit hyperactivity disorder (ADHD). Using amphetamines can lead to addiction.\n",
    "\n",
    "Amphetamines are illegal when they are used without a prescription to get high or improve performance. In this case, they are known as street, or recreational drugs, and using them can lead to addiction. This article describes this aspect of amphetamines.\n",
    "\n",
    "var16: Amyl - 'party drug', depresant; https://adf.org.au/drug-facts/amyl-nitrite/\n",
    "\n",
    "var17: Benzos - Familiar names include Valium and Xanax. They are some of the most commonly prescribed medications in the United States. When people without prescriptions obtain and take these drugs for their sedating effects, use turns into abuse. https://www.webmd.com/mental-health/addiction/benzodiazepine-abuse#1\n",
    "\n",
    "var18: Caff = caffeine \\\n",
    "var19: Cannabis =  Marijuana, yarndi, pot, weed, hash, dope, gunja, joint, stick, chronic, cone, choof, mull, 420, dabs, dabbing, BHO.\n",
    "\n",
    "var20: Choc = chocolate \\\n",
    "var21: Cocaine \\\n",
    "var22: Crack \\\n",
    "var23: Ecstasy (XTC, X, Adam, E, Roll, A, 007, Molly) https://kidshealth.org/en/parents/drugs-ecstasy.html\n",
    "Ecstasy is a stimulant drug that can cause hallucinations (ao giac). It is known as a designer drug because it was created for the purpose of making someone feel high. The drug is popular with teens and young adults who go to clubs, concerts, or \"rave\" parties.\n",
    "\n",
    "var24: Heroin\n",
    "var25: Ketamine https://adf.org.au/drug-facts/ketamine/  Ketamine is used by medical practitioners and veterinarians as an anaesthetic. It’s sometimes used illegally by people to get high.\n",
    "\n",
    "Ketamine is a dissociative drug, which means it acts on different chemicals in the brain to produce visual and auditory distortion, and a detachment from reality.\n",
    "\n",
    "When it’s sold illegally, ketamine usually comes as a white or off-white powder. It can also be made into pills, or dissolved in a liquid.1\n",
    "\n",
    "Clinical trials and studies are assessing ketamine as a treatment for depression. Early indications show good results.2\n",
    "\n",
    "var26: Legal highs https://www.themanorclinic.com/addiction-treatment/legal-high-rehab/legal-high-addiction-symptoms\n",
    "New psychoactive and illicit substances (‘legal highs’) are synthetic substances that have been specifically designed to imitate the effects of other illegal drugs including cocaine, ecstasy/MDMA and certain prescription medications. Because these drugs contain a whole host of unknown and untested chemicals, they are associated with a wide range of symptoms and effects, which can vary depending on the type of so-called ‘legal high’ that you are addicted to, as well as how much of the drug you have been consuming.\n",
    "\n",
    "var27: LSD https://adf.org.au/drug-facts/lsd/\n",
    "LSD (lysergic acid diethylamide) is a synthetic chemical, made from a substance found in ergot, which is a fungus that infects rye (grain).1\n",
    "\n",
    "LSD belongs to a group of drugs known as psychedelics. When small doses are taken, it can produce mild changes in perception, mood and thought. Larger doses may produce visual hallucinations and distortions of space and time.2\n",
    "\n",
    "Sometimes, what is sold as LSD can actually be other chemicals such as NBOMe or the 2C family of drugs (part of the new psychoactive substances). These can be quite dangerous, as their quality is inconsistent. Taking too much of these other substances can be fatal with a number of deaths having been reported.3, 4\n",
    "\n",
    "var28: Meth Methadone is part of a category of drugs called opioids. German doctors created it during World War II. When it came to the United States, doctors used it to treat people with extreme pain. Today, you might also get it as part of a treatment program for an addiction to heroin or narcotic painkillers.\n",
    "https://www.webmd.com/mental-health/addiction/what-is-methadone#1\n",
    "\n",
    "var29: Mushrooms magic mushrooms consumption Psilocybin or magic mushrooms are naturally occurring and are consumed for their hallucinogenic effects. \n",
    "\n",
    "They are psychedelic drugs, which means they can affect all the senses, altering a person’s thinking, sense of time and emotions. Psychedelics can cause a person to hallucinate, seeing or hearing things that do not exist or are distorted.1\n",
    "\n",
    "https://adf.org.au/drug-facts/psilocybin/\n",
    "\n",
    "var30: Nicotine \\\n",
    "var31: Semer - fictious drug\n",
    "\n",
    "var32: VSA Domestic products such as spray deodorants, glue, lighter refills and spray air fresheners can be used as drugs.\n",
    "\n",
    "Volatile substance use may be defined as the deliberate inhalation of volatile compounds to produce psychoactive effects. These compounds have few characteristics in common, other than their intoxication effects and the behavioural effects they produce. Such volatile substances are often referred to as inhalants, a term which encompasses a diverse group of psychoactive chemicals that are defined by the route of administration, rather than their mechanism of action on the central nervous system or psychoactive effects.\n",
    "\n",
    "The use of volatile substances is unlike most other forms of drug use in that it involves various compounds contained in readily accessible domestic or commercial products. These compounds, that are safe when used for their intended purposes, may cause intoxication and in some cases death when their vapours are deliberately concentrated and inhaled.\n",
    "\n",
    "A specific subgroup of volatile substances — alkyl nitrites — are used on the dance club scene because they cause relaxation of vascular smooth muscle and produce a ‘rush’, or to enhance a sexual experience. They are generally known as ‘poppers’ and can be found on the ‘street’ market in bars and clubs. In some countries, they are available in sex shops and ‘head’ shops.\n",
    "\n",
    "https://www.emcdda.europa.eu/publications/drug-profiles/volatile_en\n",
    "\n"
   ]
  }
 ],
 "metadata": {
  "colab": {
   "authorship_tag": "ABX9TyMIjnH+hnKFADFHzg2fYEhG",
   "collapsed_sections": [],
   "provenance": []
  },
  "kernelspec": {
   "display_name": "Python 3 (ipykernel)",
   "language": "python",
   "name": "python3"
  },
  "language_info": {
   "codemirror_mode": {
    "name": "ipython",
    "version": 3
   },
   "file_extension": ".py",
   "mimetype": "text/x-python",
   "name": "python",
   "nbconvert_exporter": "python",
   "pygments_lexer": "ipython3",
   "version": "3.10.9"
  },
  "toc": {
   "base_numbering": 1,
   "nav_menu": {},
   "number_sections": false,
   "sideBar": true,
   "skip_h1_title": false,
   "title_cell": "Table of Contents",
   "title_sidebar": "Contents",
   "toc_cell": true,
   "toc_position": {
    "height": "calc(100% - 180px)",
    "left": "10px",
    "top": "150px",
    "width": "372.594px"
   },
   "toc_section_display": true,
   "toc_window_display": true
  }
 },
 "nbformat": 4,
 "nbformat_minor": 1
}
